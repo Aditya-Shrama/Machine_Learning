{
 "cells": [
  {
   "cell_type": "markdown",
   "id": "e650bd2d-02e2-4de1-a5c3-db5fd5018bd0",
   "metadata": {},
   "source": [
    " # Pandas GroupBy function:\n",
    "\n",
    "* Pandas Groupby function is used to split the data into groups based on some criteria.\n",
    "\n",
    "* DataFrame.groupby()\n",
    "\n",
    "  \n",
    "Groupby operation involves following operations\n",
    "* split the object\n",
    "* apply a function\n",
    "* combining the result"
   ]
  },
  {
   "cell_type": "code",
   "execution_count": 113,
   "id": "04b1f56e-12d9-44b0-8f15-a1dbe7bc840a",
   "metadata": {},
   "outputs": [],
   "source": [
    "import pandas as pd"
   ]
  },
  {
   "cell_type": "code",
   "execution_count": 114,
   "id": "216fc5f5-250c-4025-96d9-e57613e80582",
   "metadata": {},
   "outputs": [
    {
     "data": {
      "text/html": [
       "<div>\n",
       "<style scoped>\n",
       "    .dataframe tbody tr th:only-of-type {\n",
       "        vertical-align: middle;\n",
       "    }\n",
       "\n",
       "    .dataframe tbody tr th {\n",
       "        vertical-align: top;\n",
       "    }\n",
       "\n",
       "    .dataframe thead th {\n",
       "        text-align: right;\n",
       "    }\n",
       "</style>\n",
       "<table border=\"1\" class=\"dataframe\">\n",
       "  <thead>\n",
       "    <tr style=\"text-align: right;\">\n",
       "      <th></th>\n",
       "      <th>age</th>\n",
       "      <th>gender</th>\n",
       "      <th>fever</th>\n",
       "      <th>cough</th>\n",
       "      <th>city</th>\n",
       "      <th>has_covid</th>\n",
       "    </tr>\n",
       "  </thead>\n",
       "  <tbody>\n",
       "    <tr>\n",
       "      <th>0</th>\n",
       "      <td>60</td>\n",
       "      <td>Male</td>\n",
       "      <td>103.0</td>\n",
       "      <td>Mild</td>\n",
       "      <td>Kolkata</td>\n",
       "      <td>No</td>\n",
       "    </tr>\n",
       "    <tr>\n",
       "      <th>1</th>\n",
       "      <td>27</td>\n",
       "      <td>Male</td>\n",
       "      <td>100.0</td>\n",
       "      <td>Mild</td>\n",
       "      <td>Delhi</td>\n",
       "      <td>Yes</td>\n",
       "    </tr>\n",
       "    <tr>\n",
       "      <th>2</th>\n",
       "      <td>42</td>\n",
       "      <td>Male</td>\n",
       "      <td>101.0</td>\n",
       "      <td>Mild</td>\n",
       "      <td>Delhi</td>\n",
       "      <td>No</td>\n",
       "    </tr>\n",
       "    <tr>\n",
       "      <th>3</th>\n",
       "      <td>31</td>\n",
       "      <td>Female</td>\n",
       "      <td>98.0</td>\n",
       "      <td>Mild</td>\n",
       "      <td>Kolkata</td>\n",
       "      <td>No</td>\n",
       "    </tr>\n",
       "    <tr>\n",
       "      <th>4</th>\n",
       "      <td>65</td>\n",
       "      <td>Female</td>\n",
       "      <td>101.0</td>\n",
       "      <td>Mild</td>\n",
       "      <td>Mumbai</td>\n",
       "      <td>No</td>\n",
       "    </tr>\n",
       "  </tbody>\n",
       "</table>\n",
       "</div>"
      ],
      "text/plain": [
       "   age  gender  fever cough     city has_covid\n",
       "0   60    Male  103.0  Mild  Kolkata        No\n",
       "1   27    Male  100.0  Mild    Delhi       Yes\n",
       "2   42    Male  101.0  Mild    Delhi        No\n",
       "3   31  Female   98.0  Mild  Kolkata        No\n",
       "4   65  Female  101.0  Mild   Mumbai        No"
      ]
     },
     "execution_count": 114,
     "metadata": {},
     "output_type": "execute_result"
    }
   ],
   "source": [
    "Data  = pd.read_csv(\"C:\\\\Users\\\\AdityaRaj Sharma\\\\Python Data sets\\\\covid_toy.csv\")\n",
    "Data.head()"
   ]
  },
  {
   "cell_type": "code",
   "execution_count": 116,
   "id": "c39ebe65-bfb1-4060-9b4a-429a473f94af",
   "metadata": {},
   "outputs": [
    {
     "data": {
      "text/plain": [
       "<pandas.core.groupby.generic.DataFrameGroupBy object at 0x000001A7466E9590>"
      ]
     },
     "execution_count": 116,
     "metadata": {},
     "output_type": "execute_result"
    }
   ],
   "source": [
    "gr1 = Data.groupby(by = \"cough\")\n",
    "gr1"
   ]
  },
  {
   "cell_type": "code",
   "execution_count": 117,
   "id": "d87fa8d4-54bd-4ac9-baf5-b71320ddc3e4",
   "metadata": {},
   "outputs": [
    {
     "data": {
      "text/plain": [
       "{'Mild': [0, 1, 2, 3, 4, 5, 9, 10, 11, 13, 14, 16, 18, 21, 23, 25, 26, 28, 30, 31, 33, 34, 36, 37, 38, 39, 40, 41, 42, 43, 45, 46, 47, 49, 50, 53, 54, 55, 59, 63, 64, 65, 66, 67, 69, 72, 75, 76, 77, 78, 79, 80, 81, 82, 83, 85, 86, 88, 91, 93, 95, 97], 'Strong': [6, 7, 8, 12, 15, 17, 19, 20, 22, 24, 27, 29, 32, 35, 44, 48, 51, 52, 56, 57, 58, 60, 61, 62, 68, 70, 71, 73, 74, 84, 87, 89, 90, 92, 94, 96, 98, 99]}"
      ]
     },
     "execution_count": 117,
     "metadata": {},
     "output_type": "execute_result"
    }
   ],
   "source": [
    "gr1.groups"
   ]
  },
  {
   "cell_type": "code",
   "execution_count": 120,
   "id": "b41f8789-0b1f-4e9a-a08c-0299536b89fa",
   "metadata": {},
   "outputs": [
    {
     "data": {
      "text/plain": [
       "{('Mild', 'Female'): [3, 4, 5, 9, 10, 11, 16, 18, 23, 26, 33, 36, 38, 39, 40, 43, 46, 47, 54, 55, 59, 65, 69, 72, 77, 79, 80, 83, 85, 88, 95, 97], ('Mild', 'Male'): [0, 1, 2, 13, 14, 21, 25, 28, 30, 31, 34, 37, 41, 42, 45, 49, 50, 53, 63, 64, 66, 67, 75, 76, 78, 81, 82, 86, 91, 93], ('Strong', 'Female'): [7, 8, 12, 17, 19, 22, 24, 27, 29, 32, 35, 51, 52, 57, 60, 61, 62, 68, 70, 71, 74, 84, 90, 92, 96, 98, 99], ('Strong', 'Male'): [6, 15, 20, 44, 48, 56, 58, 73, 87, 89, 94]}"
      ]
     },
     "execution_count": 120,
     "metadata": {},
     "output_type": "execute_result"
    }
   ],
   "source": [
    "# Two columns\n",
    "\n",
    "Data.groupby(['cough','gender']).groups"
   ]
  },
  {
   "cell_type": "code",
   "execution_count": 121,
   "id": "77d3241d-1cf8-41f3-ab78-555ec79a0d8f",
   "metadata": {},
   "outputs": [
    {
     "name": "stdout",
     "output_type": "stream",
     "text": [
      "Mild\n",
      "Female\n",
      "Mild\n",
      "Male\n",
      "Strong\n",
      "Female\n",
      "Strong\n",
      "Male\n"
     ]
    }
   ],
   "source": [
    "for cough, Data in gr1:\n",
    "    print(cough)\n",
    "    print(Data)"
   ]
  },
  {
   "cell_type": "code",
   "execution_count": 122,
   "id": "9a63d9b3-90f9-47bf-ae81-9955db4a1bb3",
   "metadata": {},
   "outputs": [
    {
     "data": {
      "text/plain": [
       "[('Mild', 'Female'),\n",
       " ('Mild', 'Male'),\n",
       " ('Strong', 'Female'),\n",
       " ('Strong', 'Male')]"
      ]
     },
     "execution_count": 122,
     "metadata": {},
     "output_type": "execute_result"
    }
   ],
   "source": [
    "# converting to list\n",
    "\n",
    "list(gr1)"
   ]
  },
  {
   "cell_type": "code",
   "execution_count": 123,
   "id": "ec41b689-c20f-44c8-aee1-351a1318b918",
   "metadata": {},
   "outputs": [
    {
     "data": {
      "text/plain": [
       "{'Mild': 'Male', 'Strong': 'Male'}"
      ]
     },
     "execution_count": 123,
     "metadata": {},
     "output_type": "execute_result"
    }
   ],
   "source": [
    "# converting to dict\n",
    "\n",
    "dict(list(gr1))"
   ]
  },
  {
   "cell_type": "code",
   "execution_count": null,
   "id": "351293ba-8ee8-4c56-a310-b0e24f65b08f",
   "metadata": {},
   "outputs": [],
   "source": []
  }
 ],
 "metadata": {
  "kernelspec": {
   "display_name": "Python 3 (ipykernel)",
   "language": "python",
   "name": "python3"
  },
  "language_info": {
   "codemirror_mode": {
    "name": "ipython",
    "version": 3
   },
   "file_extension": ".py",
   "mimetype": "text/x-python",
   "name": "python",
   "nbconvert_exporter": "python",
   "pygments_lexer": "ipython3",
   "version": "3.11.7"
  }
 },
 "nbformat": 4,
 "nbformat_minor": 5
}
