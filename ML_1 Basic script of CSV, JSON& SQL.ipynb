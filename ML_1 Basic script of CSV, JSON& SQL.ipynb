{
 "cells": [
  {
   "cell_type": "markdown",
   "id": "1118c86e-fe17-4f0d-8f5d-cb91311163d6",
   "metadata": {},
   "source": [
    "# Working with CSV, JSON & SQL\n",
    "\n",
    "In this file we will going to see Basic Script of load dataset and some parameter of \"pd.read_csv\"  file\n",
    "and also Basic Script of working on SQL & JSON files"
   ]
  },
  {
   "cell_type": "markdown",
   "id": "441ae6bb-53d1-401a-8a58-3192e7b0921a",
   "metadata": {
    "jp-MarkdownHeadingCollapsed": true
   },
   "source": [
    "# 1 . Load Dataset"
   ]
  },
  {
   "cell_type": "code",
   "execution_count": 35,
   "id": "dca13ee1-516c-478d-babd-a63bebbcfbea",
   "metadata": {},
   "outputs": [],
   "source": [
    "import pandas as pd"
   ]
  },
  {
   "cell_type": "code",
   "execution_count": 36,
   "id": "da48e231-ccc4-4ec8-8daf-36481e8cfc20",
   "metadata": {},
   "outputs": [
    {
     "data": {
      "text/html": [
       "<div>\n",
       "<style scoped>\n",
       "    .dataframe tbody tr th:only-of-type {\n",
       "        vertical-align: middle;\n",
       "    }\n",
       "\n",
       "    .dataframe tbody tr th {\n",
       "        vertical-align: top;\n",
       "    }\n",
       "\n",
       "    .dataframe thead th {\n",
       "        text-align: right;\n",
       "    }\n",
       "</style>\n",
       "<table border=\"1\" class=\"dataframe\">\n",
       "  <thead>\n",
       "    <tr style=\"text-align: right;\">\n",
       "      <th></th>\n",
       "      <th>R&amp;D Spend</th>\n",
       "      <th>Administration</th>\n",
       "      <th>Marketing Spend</th>\n",
       "      <th>State</th>\n",
       "      <th>Profit</th>\n",
       "    </tr>\n",
       "  </thead>\n",
       "  <tbody>\n",
       "    <tr>\n",
       "      <th>0</th>\n",
       "      <td>165349.20</td>\n",
       "      <td>136897.80</td>\n",
       "      <td>471784.10</td>\n",
       "      <td>New York</td>\n",
       "      <td>192261.83</td>\n",
       "    </tr>\n",
       "    <tr>\n",
       "      <th>1</th>\n",
       "      <td>162597.70</td>\n",
       "      <td>151377.59</td>\n",
       "      <td>443898.53</td>\n",
       "      <td>California</td>\n",
       "      <td>191792.06</td>\n",
       "    </tr>\n",
       "    <tr>\n",
       "      <th>2</th>\n",
       "      <td>153441.51</td>\n",
       "      <td>101145.55</td>\n",
       "      <td>407934.54</td>\n",
       "      <td>Florida</td>\n",
       "      <td>191050.39</td>\n",
       "    </tr>\n",
       "    <tr>\n",
       "      <th>3</th>\n",
       "      <td>144372.41</td>\n",
       "      <td>118671.85</td>\n",
       "      <td>383199.62</td>\n",
       "      <td>New York</td>\n",
       "      <td>182901.99</td>\n",
       "    </tr>\n",
       "    <tr>\n",
       "      <th>4</th>\n",
       "      <td>142107.34</td>\n",
       "      <td>91391.77</td>\n",
       "      <td>366168.42</td>\n",
       "      <td>Florida</td>\n",
       "      <td>166187.94</td>\n",
       "    </tr>\n",
       "  </tbody>\n",
       "</table>\n",
       "</div>"
      ],
      "text/plain": [
       "   R&D Spend  Administration  Marketing Spend       State     Profit\n",
       "0  165349.20       136897.80        471784.10    New York  192261.83\n",
       "1  162597.70       151377.59        443898.53  California  191792.06\n",
       "2  153441.51       101145.55        407934.54     Florida  191050.39\n",
       "3  144372.41       118671.85        383199.62    New York  182901.99\n",
       "4  142107.34        91391.77        366168.42     Florida  166187.94"
      ]
     },
     "execution_count": 36,
     "metadata": {},
     "output_type": "execute_result"
    }
   ],
   "source": [
    "data = pd.read_csv(\"C:\\\\Users\\\\AdityaRaj Sharma\\\\Python Data sets\\\\50_Startups.csv\")\n",
    "data.head()"
   ]
  },
  {
   "cell_type": "markdown",
   "id": "d7575c24-2c16-4aae-bba2-f162555e4b86",
   "metadata": {},
   "source": [
    "# 2.  sep parameter\n",
    "\n",
    "IT  seperate through tab "
   ]
  },
  {
   "cell_type": "code",
   "execution_count": 31,
   "id": "4e4a6ef7-c8d4-4031-825a-e7366b2140b6",
   "metadata": {},
   "outputs": [
    {
     "data": {
      "text/html": [
       "<div>\n",
       "<style scoped>\n",
       "    .dataframe tbody tr th:only-of-type {\n",
       "        vertical-align: middle;\n",
       "    }\n",
       "\n",
       "    .dataframe tbody tr th {\n",
       "        vertical-align: top;\n",
       "    }\n",
       "\n",
       "    .dataframe thead th {\n",
       "        text-align: right;\n",
       "    }\n",
       "</style>\n",
       "<table border=\"1\" class=\"dataframe\">\n",
       "  <thead>\n",
       "    <tr style=\"text-align: right;\">\n",
       "      <th></th>\n",
       "      <th>R&amp;D Spend,Administration,Marketing Spend,State,Profit</th>\n",
       "    </tr>\n",
       "  </thead>\n",
       "  <tbody>\n",
       "    <tr>\n",
       "      <th>0</th>\n",
       "      <td>165349.2,136897.8,471784.1,New York,192261.83</td>\n",
       "    </tr>\n",
       "    <tr>\n",
       "      <th>1</th>\n",
       "      <td>162597.7,151377.59,443898.53,California,191792.06</td>\n",
       "    </tr>\n",
       "    <tr>\n",
       "      <th>2</th>\n",
       "      <td>153441.51,101145.55,407934.54,Florida,191050.39</td>\n",
       "    </tr>\n",
       "    <tr>\n",
       "      <th>3</th>\n",
       "      <td>144372.41,118671.85,383199.62,New York,182901.99</td>\n",
       "    </tr>\n",
       "    <tr>\n",
       "      <th>4</th>\n",
       "      <td>142107.34,91391.77,366168.42,Florida,166187.94</td>\n",
       "    </tr>\n",
       "  </tbody>\n",
       "</table>\n",
       "</div>"
      ],
      "text/plain": [
       "  R&D Spend,Administration,Marketing Spend,State,Profit\n",
       "0      165349.2,136897.8,471784.1,New York,192261.83   \n",
       "1  162597.7,151377.59,443898.53,California,191792.06   \n",
       "2    153441.51,101145.55,407934.54,Florida,191050.39   \n",
       "3   144372.41,118671.85,383199.62,New York,182901.99   \n",
       "4     142107.34,91391.77,366168.42,Florida,166187.94   "
      ]
     },
     "execution_count": 31,
     "metadata": {},
     "output_type": "execute_result"
    }
   ],
   "source": [
    "data_2 = pd.read_csv(\"C:\\\\Users\\\\AdityaRaj Sharma\\\\Python Data sets\\\\50_Startups.csv\",sep = '\\t')\n",
    "data_2.head()\n",
    "\n",
    "\n"
   ]
  },
  {
   "cell_type": "markdown",
   "id": "843aa71e-6a85-4b01-88b1-e345ae6719c1",
   "metadata": {},
   "source": [
    "# 2.1 If i want to pass the name of heading by my choice i can do that using \"names parameter\" eg below"
   ]
  },
  {
   "cell_type": "code",
   "execution_count": 25,
   "id": "29877f8a-a265-4a5c-a3e3-641226278ae4",
   "metadata": {},
   "outputs": [],
   "source": [
    "# data = pd.read_csv(\"C:\\\\Users\\\\AdityaRaj Sharma\\\\Python Data sets\\\\50_Startups.csv\", names = [\"write the name which you want to give\"])\n",
    "# data.head()\n",
    "\n"
   ]
  },
  {
   "cell_type": "markdown",
   "id": "c0ae83f4-35e3-4919-bc13-deafc568c9a3",
   "metadata": {},
   "source": [
    "# 3. header parameter\n",
    "\n",
    "when you want to provide the row name as column name use this"
   ]
  },
  {
   "cell_type": "code",
   "execution_count": 40,
   "id": "41601664-75cc-4dda-a3c8-4f3a728f5a36",
   "metadata": {},
   "outputs": [
    {
     "data": {
      "text/html": [
       "<div>\n",
       "<style scoped>\n",
       "    .dataframe tbody tr th:only-of-type {\n",
       "        vertical-align: middle;\n",
       "    }\n",
       "\n",
       "    .dataframe tbody tr th {\n",
       "        vertical-align: top;\n",
       "    }\n",
       "\n",
       "    .dataframe thead th {\n",
       "        text-align: right;\n",
       "    }\n",
       "</style>\n",
       "<table border=\"1\" class=\"dataframe\">\n",
       "  <thead>\n",
       "    <tr style=\"text-align: right;\">\n",
       "      <th></th>\n",
       "      <th>165349.2</th>\n",
       "      <th>136897.8</th>\n",
       "      <th>471784.1</th>\n",
       "      <th>New York</th>\n",
       "      <th>192261.83</th>\n",
       "    </tr>\n",
       "  </thead>\n",
       "  <tbody>\n",
       "    <tr>\n",
       "      <th>0</th>\n",
       "      <td>162597.70</td>\n",
       "      <td>151377.59</td>\n",
       "      <td>443898.53</td>\n",
       "      <td>California</td>\n",
       "      <td>191792.06</td>\n",
       "    </tr>\n",
       "    <tr>\n",
       "      <th>1</th>\n",
       "      <td>153441.51</td>\n",
       "      <td>101145.55</td>\n",
       "      <td>407934.54</td>\n",
       "      <td>Florida</td>\n",
       "      <td>191050.39</td>\n",
       "    </tr>\n",
       "    <tr>\n",
       "      <th>2</th>\n",
       "      <td>144372.41</td>\n",
       "      <td>118671.85</td>\n",
       "      <td>383199.62</td>\n",
       "      <td>New York</td>\n",
       "      <td>182901.99</td>\n",
       "    </tr>\n",
       "    <tr>\n",
       "      <th>3</th>\n",
       "      <td>142107.34</td>\n",
       "      <td>91391.77</td>\n",
       "      <td>366168.42</td>\n",
       "      <td>Florida</td>\n",
       "      <td>166187.94</td>\n",
       "    </tr>\n",
       "    <tr>\n",
       "      <th>4</th>\n",
       "      <td>131876.90</td>\n",
       "      <td>99814.71</td>\n",
       "      <td>362861.36</td>\n",
       "      <td>New York</td>\n",
       "      <td>156991.12</td>\n",
       "    </tr>\n",
       "  </tbody>\n",
       "</table>\n",
       "</div>"
      ],
      "text/plain": [
       "    165349.2   136897.8   471784.1    New York  192261.83\n",
       "0  162597.70  151377.59  443898.53  California  191792.06\n",
       "1  153441.51  101145.55  407934.54     Florida  191050.39\n",
       "2  144372.41  118671.85  383199.62    New York  182901.99\n",
       "3  142107.34   91391.77  366168.42     Florida  166187.94\n",
       "4  131876.90   99814.71  362861.36    New York  156991.12"
      ]
     },
     "execution_count": 40,
     "metadata": {},
     "output_type": "execute_result"
    }
   ],
   "source": [
    "data_3 = pd.read_csv(\"C:\\\\Users\\\\AdityaRaj Sharma\\\\Python Data sets\\\\50_Startups.csv\", header = 1)\n",
    "data_3.head()"
   ]
  },
  {
   "cell_type": "markdown",
   "id": "aae2d8c7-64e7-45ca-a5e7-8a529b1dbf9b",
   "metadata": {},
   "source": [
    "# 4. use_cols parameter\n",
    "\n",
    "while load data set provide the name of columns you need instead of loading whole dataset"
   ]
  },
  {
   "cell_type": "code",
   "execution_count": 41,
   "id": "37aed341-e731-4968-ac4c-ffbe33c5265e",
   "metadata": {},
   "outputs": [],
   "source": [
    "# pd.read_csv(\" pass the address of data set.csv\",usecols=['pass the column name'])"
   ]
  },
  {
   "cell_type": "markdown",
   "id": "bb7f5038-8b95-42b4-a8a2-23796cc7e32c",
   "metadata": {},
   "source": [
    "# 5. Squeeze parameter\n",
    "\n",
    "convert dataframe to series\n",
    "\n"
   ]
  },
  {
   "cell_type": "markdown",
   "id": "b34d068c-c0ae-4c0f-a12b-a66ebede3dd2",
   "metadata": {},
   "source": [
    "pd.read_csv(\" pass the address of data set.csv\",usecols=['pass the column name'], squeeze = True)"
   ]
  },
  {
   "cell_type": "markdown",
   "id": "87f1bf7c-5209-45d0-9cc0-97ae86851e62",
   "metadata": {},
   "source": [
    "# 6. Woking with Json"
   ]
  },
  {
   "cell_type": "markdown",
   "id": "a316c537-3d80-4a79-a8c7-e9d1b56dff75",
   "metadata": {},
   "source": [
    "# for json -  \n",
    "\n",
    "data = pd.read_json (\"file name\")"
   ]
  },
  {
   "cell_type": "markdown",
   "id": "b18c67ac-3f0d-467d-83ad-b9aa33f66cac",
   "metadata": {},
   "source": [
    "# 7. Working with SQL"
   ]
  },
  {
   "cell_type": "markdown",
   "id": "ddada0fc-baf3-4029-80a4-2b5addf87488",
   "metadata": {},
   "source": [
    "! pip install mysql.connector"
   ]
  },
  {
   "cell_type": "markdown",
   "id": "10fd0328-c049-4cc2-9f3b-fd54d3a25d9d",
   "metadata": {},
   "source": [
    "import mysql.connector"
   ]
  },
  {
   "cell_type": "markdown",
   "id": "35f31ca8-41f9-4c83-bcc2-bf9e1c2bd652",
   "metadata": {},
   "source": [
    "mysql.connector.connect(host = 'localhost',user='root', password =' ', database = 'world')"
   ]
  },
  {
   "cell_type": "markdown",
   "id": "caf1d4c7-0f0b-43e7-b1bf-d410e6356e4d",
   "metadata": {},
   "source": [
    "pd.read_sql_query(\"write Query\")"
   ]
  },
  {
   "cell_type": "code",
   "execution_count": null,
   "id": "0087e070-19c5-4f43-872c-b109990cf96a",
   "metadata": {},
   "outputs": [],
   "source": []
  }
 ],
 "metadata": {
  "kernelspec": {
   "display_name": "Python 3 (ipykernel)",
   "language": "python",
   "name": "python3"
  },
  "language_info": {
   "codemirror_mode": {
    "name": "ipython",
    "version": 3
   },
   "file_extension": ".py",
   "mimetype": "text/x-python",
   "name": "python",
   "nbconvert_exporter": "python",
   "pygments_lexer": "ipython3",
   "version": "3.11.7"
  }
 },
 "nbformat": 4,
 "nbformat_minor": 5
}
