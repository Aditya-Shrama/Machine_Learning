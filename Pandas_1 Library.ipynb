{
 "cells": [
  {
   "cell_type": "markdown",
   "id": "8760d9b6-3a14-465f-b26b-c57daa910f9b",
   "metadata": {},
   "source": [
    "# Pandas DataFrame\n",
    "\n",
    "# Pandas DataFrame is 2-D, size mutable, Heterogeneous with labeled axes(Rows & Columns)\n",
    "\n",
    "In Part we are going to see pandas functions.\n",
    "\n",
    "1. Pandas DataFrame\n",
    "2. Pandas Series\n",
    "3. Pandas Basic operations (indexing)"
   ]
  },
  {
   "cell_type": "markdown",
   "id": "8bbb282f-c347-4940-8f8b-34077c8bfddc",
   "metadata": {},
   "source": [
    "To install pandas \n",
    "\n",
    "! pip intall pandas"
   ]
  },
  {
   "cell_type": "code",
   "execution_count": 1,
   "id": "3acb6c3e-ef1c-4755-8530-c81691341606",
   "metadata": {},
   "outputs": [
    {
     "data": {
      "text/html": [
       "<div>\n",
       "<style scoped>\n",
       "    .dataframe tbody tr th:only-of-type {\n",
       "        vertical-align: middle;\n",
       "    }\n",
       "\n",
       "    .dataframe tbody tr th {\n",
       "        vertical-align: top;\n",
       "    }\n",
       "\n",
       "    .dataframe thead th {\n",
       "        text-align: right;\n",
       "    }\n",
       "</style>\n",
       "<table border=\"1\" class=\"dataframe\">\n",
       "  <thead>\n",
       "    <tr style=\"text-align: right;\">\n",
       "      <th></th>\n",
       "      <th>age</th>\n",
       "      <th>gender</th>\n",
       "      <th>fever</th>\n",
       "      <th>cough</th>\n",
       "      <th>city</th>\n",
       "      <th>has_covid</th>\n",
       "    </tr>\n",
       "  </thead>\n",
       "  <tbody>\n",
       "    <tr>\n",
       "      <th>0</th>\n",
       "      <td>60</td>\n",
       "      <td>Male</td>\n",
       "      <td>103.0</td>\n",
       "      <td>Mild</td>\n",
       "      <td>Kolkata</td>\n",
       "      <td>No</td>\n",
       "    </tr>\n",
       "    <tr>\n",
       "      <th>1</th>\n",
       "      <td>27</td>\n",
       "      <td>Male</td>\n",
       "      <td>100.0</td>\n",
       "      <td>Mild</td>\n",
       "      <td>Delhi</td>\n",
       "      <td>Yes</td>\n",
       "    </tr>\n",
       "    <tr>\n",
       "      <th>2</th>\n",
       "      <td>42</td>\n",
       "      <td>Male</td>\n",
       "      <td>101.0</td>\n",
       "      <td>Mild</td>\n",
       "      <td>Delhi</td>\n",
       "      <td>No</td>\n",
       "    </tr>\n",
       "    <tr>\n",
       "      <th>3</th>\n",
       "      <td>31</td>\n",
       "      <td>Female</td>\n",
       "      <td>98.0</td>\n",
       "      <td>Mild</td>\n",
       "      <td>Kolkata</td>\n",
       "      <td>No</td>\n",
       "    </tr>\n",
       "    <tr>\n",
       "      <th>4</th>\n",
       "      <td>65</td>\n",
       "      <td>Female</td>\n",
       "      <td>101.0</td>\n",
       "      <td>Mild</td>\n",
       "      <td>Mumbai</td>\n",
       "      <td>No</td>\n",
       "    </tr>\n",
       "  </tbody>\n",
       "</table>\n",
       "</div>"
      ],
      "text/plain": [
       "   age  gender  fever cough     city has_covid\n",
       "0   60    Male  103.0  Mild  Kolkata        No\n",
       "1   27    Male  100.0  Mild    Delhi       Yes\n",
       "2   42    Male  101.0  Mild    Delhi        No\n",
       "3   31  Female   98.0  Mild  Kolkata        No\n",
       "4   65  Female  101.0  Mild   Mumbai        No"
      ]
     },
     "execution_count": 1,
     "metadata": {},
     "output_type": "execute_result"
    }
   ],
   "source": [
    "import pandas as pd\n",
    "\n",
    "data = pd.read_csv(\"C:\\\\Users\\\\AdityaRaj Sharma\\\\Python Data sets\\\\covid_toy.csv\")\n",
    "data.head()"
   ]
  },
  {
   "cell_type": "markdown",
   "id": "4edcf5be-c911-4b95-bdf1-9ec700eec598",
   "metadata": {},
   "source": [
    "# To Create Dataframe"
   ]
  },
  {
   "cell_type": "code",
   "execution_count": 2,
   "id": "e47d0cbb-801d-4dbb-87d5-9207ff6c19a6",
   "metadata": {},
   "outputs": [
    {
     "data": {
      "text/plain": [
       "{'Name': ['Ashu', 'Krishna', 'Shashank', 'Manooj', 'Karishma', 'Kripalu'],\n",
       " 'Age': [23, 24, 25, 26, 27, 28],\n",
       " 'Class': [4, 5, 6, 7, 8, 9],\n",
       " 'Place': ['Ratlam', 'Ujjain', 'Mandsaur', 'Bhaugarah', 'Morkheda', 'Jaipur'],\n",
       " 'Poket Money': [500, 1000, 100, 200, 150, 20],\n",
       " 'vehical': ['mercedes', 'lamborghini', 'Cycle', 'Scooty', 'Bus', 'CTX100']}"
      ]
     },
     "execution_count": 2,
     "metadata": {},
     "output_type": "execute_result"
    }
   ],
   "source": [
    "Data = {\n",
    "        \"Name\":[ \"Ashu\", \"Krishna\", \"Shashank\", \"Manooj\",\"Karishma\", \"Kripalu\"],\n",
    "        \"Age\": [23,24,25,26,27,28],\n",
    "        \"Class\": [4,5,6,7,8,9],\n",
    "        \"Place\": [\"Ratlam\", \"Ujjain\", \"Mandsaur\", \"Bhaugarah\", \"Morkheda\", \"Jaipur\"],\n",
    "        \"Poket Money\": [500,1000,100,200,150,20],\n",
    "        \"vehical\": [\"mercedes\",\"lamborghini\", \"Cycle\", \"Scooty\", \"Bus\", \"CTX100\"]\n",
    "}\n",
    "\n",
    "Data"
   ]
  },
  {
   "cell_type": "code",
   "execution_count": 30,
   "id": "e135e655-51f5-44cd-b8e8-bc645321f583",
   "metadata": {},
   "outputs": [
    {
     "data": {
      "text/html": [
       "<div>\n",
       "<style scoped>\n",
       "    .dataframe tbody tr th:only-of-type {\n",
       "        vertical-align: middle;\n",
       "    }\n",
       "\n",
       "    .dataframe tbody tr th {\n",
       "        vertical-align: top;\n",
       "    }\n",
       "\n",
       "    .dataframe thead th {\n",
       "        text-align: right;\n",
       "    }\n",
       "</style>\n",
       "<table border=\"1\" class=\"dataframe\">\n",
       "  <thead>\n",
       "    <tr style=\"text-align: right;\">\n",
       "      <th></th>\n",
       "      <th>Name</th>\n",
       "      <th>Age</th>\n",
       "      <th>Class</th>\n",
       "      <th>Place</th>\n",
       "      <th>Poket Money</th>\n",
       "      <th>vehical</th>\n",
       "    </tr>\n",
       "  </thead>\n",
       "  <tbody>\n",
       "    <tr>\n",
       "      <th>1</th>\n",
       "      <td>Ashu</td>\n",
       "      <td>23</td>\n",
       "      <td>4</td>\n",
       "      <td>Ratlam</td>\n",
       "      <td>500</td>\n",
       "      <td>mercedes</td>\n",
       "    </tr>\n",
       "    <tr>\n",
       "      <th>2</th>\n",
       "      <td>Krishna</td>\n",
       "      <td>24</td>\n",
       "      <td>5</td>\n",
       "      <td>Ujjain</td>\n",
       "      <td>1000</td>\n",
       "      <td>lamborghini</td>\n",
       "    </tr>\n",
       "    <tr>\n",
       "      <th>3</th>\n",
       "      <td>Shashank</td>\n",
       "      <td>25</td>\n",
       "      <td>6</td>\n",
       "      <td>Mandsaur</td>\n",
       "      <td>100</td>\n",
       "      <td>Cycle</td>\n",
       "    </tr>\n",
       "    <tr>\n",
       "      <th>4</th>\n",
       "      <td>Manooj</td>\n",
       "      <td>26</td>\n",
       "      <td>7</td>\n",
       "      <td>Bhaugarah</td>\n",
       "      <td>200</td>\n",
       "      <td>Scooty</td>\n",
       "    </tr>\n",
       "    <tr>\n",
       "      <th>5</th>\n",
       "      <td>Karishma</td>\n",
       "      <td>27</td>\n",
       "      <td>8</td>\n",
       "      <td>Morkheda</td>\n",
       "      <td>150</td>\n",
       "      <td>Bus</td>\n",
       "    </tr>\n",
       "    <tr>\n",
       "      <th>6</th>\n",
       "      <td>Kripalu</td>\n",
       "      <td>28</td>\n",
       "      <td>9</td>\n",
       "      <td>Jaipur</td>\n",
       "      <td>20</td>\n",
       "      <td>CTX100</td>\n",
       "    </tr>\n",
       "  </tbody>\n",
       "</table>\n",
       "</div>"
      ],
      "text/plain": [
       "       Name  Age  Class      Place  Poket Money      vehical\n",
       "1      Ashu   23      4     Ratlam          500     mercedes\n",
       "2   Krishna   24      5     Ujjain         1000  lamborghini\n",
       "3  Shashank   25      6   Mandsaur          100        Cycle\n",
       "4    Manooj   26      7  Bhaugarah          200       Scooty\n",
       "5  Karishma   27      8   Morkheda          150          Bus\n",
       "6   Kripalu   28      9     Jaipur           20       CTX100"
      ]
     },
     "execution_count": 30,
     "metadata": {},
     "output_type": "execute_result"
    }
   ],
   "source": [
    "df = pd.DataFrame(Data ,index =[\"1\",\"2\",\"3\",\"4\",\"5\",\"6\"])\n",
    "df\n"
   ]
  },
  {
   "cell_type": "code",
   "execution_count": 4,
   "id": "61de33e9-528d-4078-bd68-5d161405e1df",
   "metadata": {},
   "outputs": [
    {
     "data": {
      "text/plain": [
       "pandas.core.frame.DataFrame"
      ]
     },
     "execution_count": 4,
     "metadata": {},
     "output_type": "execute_result"
    }
   ],
   "source": [
    "type(df)"
   ]
  },
  {
   "cell_type": "code",
   "execution_count": 5,
   "id": "b78034c5-b28c-4769-a3fa-5a689a5ba32f",
   "metadata": {},
   "outputs": [
    {
     "data": {
      "text/html": [
       "<div>\n",
       "<style scoped>\n",
       "    .dataframe tbody tr th:only-of-type {\n",
       "        vertical-align: middle;\n",
       "    }\n",
       "\n",
       "    .dataframe tbody tr th {\n",
       "        vertical-align: top;\n",
       "    }\n",
       "\n",
       "    .dataframe thead th {\n",
       "        text-align: right;\n",
       "    }\n",
       "</style>\n",
       "<table border=\"1\" class=\"dataframe\">\n",
       "  <thead>\n",
       "    <tr style=\"text-align: right;\">\n",
       "      <th></th>\n",
       "      <th>Name</th>\n",
       "      <th>Age</th>\n",
       "      <th>Class</th>\n",
       "      <th>Place</th>\n",
       "      <th>Poket Money</th>\n",
       "      <th>vehical</th>\n",
       "    </tr>\n",
       "  </thead>\n",
       "  <tbody>\n",
       "    <tr>\n",
       "      <th>1</th>\n",
       "      <td>Ashu</td>\n",
       "      <td>23</td>\n",
       "      <td>4</td>\n",
       "      <td>Ratlam</td>\n",
       "      <td>500</td>\n",
       "      <td>mercedes</td>\n",
       "    </tr>\n",
       "    <tr>\n",
       "      <th>2</th>\n",
       "      <td>Krishna</td>\n",
       "      <td>24</td>\n",
       "      <td>5</td>\n",
       "      <td>Ujjain</td>\n",
       "      <td>1000</td>\n",
       "      <td>lamborghini</td>\n",
       "    </tr>\n",
       "    <tr>\n",
       "      <th>3</th>\n",
       "      <td>Shashank</td>\n",
       "      <td>25</td>\n",
       "      <td>6</td>\n",
       "      <td>Mandsaur</td>\n",
       "      <td>100</td>\n",
       "      <td>Cycle</td>\n",
       "    </tr>\n",
       "    <tr>\n",
       "      <th>4</th>\n",
       "      <td>Manooj</td>\n",
       "      <td>26</td>\n",
       "      <td>7</td>\n",
       "      <td>Bhaugarah</td>\n",
       "      <td>200</td>\n",
       "      <td>Scooty</td>\n",
       "    </tr>\n",
       "    <tr>\n",
       "      <th>5</th>\n",
       "      <td>Karishma</td>\n",
       "      <td>27</td>\n",
       "      <td>8</td>\n",
       "      <td>Morkheda</td>\n",
       "      <td>150</td>\n",
       "      <td>Bus</td>\n",
       "    </tr>\n",
       "  </tbody>\n",
       "</table>\n",
       "</div>"
      ],
      "text/plain": [
       "       Name  Age  Class      Place  Poket Money      vehical\n",
       "1      Ashu   23      4     Ratlam          500     mercedes\n",
       "2   Krishna   24      5     Ujjain         1000  lamborghini\n",
       "3  Shashank   25      6   Mandsaur          100        Cycle\n",
       "4    Manooj   26      7  Bhaugarah          200       Scooty\n",
       "5  Karishma   27      8   Morkheda          150          Bus"
      ]
     },
     "execution_count": 5,
     "metadata": {},
     "output_type": "execute_result"
    }
   ],
   "source": [
    "df.head()"
   ]
  },
  {
   "cell_type": "code",
   "execution_count": 6,
   "id": "59528fd8-7a58-46a7-90b8-06acad4aaff2",
   "metadata": {},
   "outputs": [
    {
     "data": {
      "text/html": [
       "<div>\n",
       "<style scoped>\n",
       "    .dataframe tbody tr th:only-of-type {\n",
       "        vertical-align: middle;\n",
       "    }\n",
       "\n",
       "    .dataframe tbody tr th {\n",
       "        vertical-align: top;\n",
       "    }\n",
       "\n",
       "    .dataframe thead th {\n",
       "        text-align: right;\n",
       "    }\n",
       "</style>\n",
       "<table border=\"1\" class=\"dataframe\">\n",
       "  <thead>\n",
       "    <tr style=\"text-align: right;\">\n",
       "      <th></th>\n",
       "      <th>Name</th>\n",
       "      <th>Age</th>\n",
       "      <th>Class</th>\n",
       "      <th>Place</th>\n",
       "      <th>Poket Money</th>\n",
       "      <th>vehical</th>\n",
       "    </tr>\n",
       "  </thead>\n",
       "  <tbody>\n",
       "    <tr>\n",
       "      <th>2</th>\n",
       "      <td>Krishna</td>\n",
       "      <td>24</td>\n",
       "      <td>5</td>\n",
       "      <td>Ujjain</td>\n",
       "      <td>1000</td>\n",
       "      <td>lamborghini</td>\n",
       "    </tr>\n",
       "    <tr>\n",
       "      <th>3</th>\n",
       "      <td>Shashank</td>\n",
       "      <td>25</td>\n",
       "      <td>6</td>\n",
       "      <td>Mandsaur</td>\n",
       "      <td>100</td>\n",
       "      <td>Cycle</td>\n",
       "    </tr>\n",
       "    <tr>\n",
       "      <th>4</th>\n",
       "      <td>Manooj</td>\n",
       "      <td>26</td>\n",
       "      <td>7</td>\n",
       "      <td>Bhaugarah</td>\n",
       "      <td>200</td>\n",
       "      <td>Scooty</td>\n",
       "    </tr>\n",
       "    <tr>\n",
       "      <th>5</th>\n",
       "      <td>Karishma</td>\n",
       "      <td>27</td>\n",
       "      <td>8</td>\n",
       "      <td>Morkheda</td>\n",
       "      <td>150</td>\n",
       "      <td>Bus</td>\n",
       "    </tr>\n",
       "    <tr>\n",
       "      <th>6</th>\n",
       "      <td>Kripalu</td>\n",
       "      <td>28</td>\n",
       "      <td>9</td>\n",
       "      <td>Jaipur</td>\n",
       "      <td>20</td>\n",
       "      <td>CTX100</td>\n",
       "    </tr>\n",
       "  </tbody>\n",
       "</table>\n",
       "</div>"
      ],
      "text/plain": [
       "       Name  Age  Class      Place  Poket Money      vehical\n",
       "2   Krishna   24      5     Ujjain         1000  lamborghini\n",
       "3  Shashank   25      6   Mandsaur          100        Cycle\n",
       "4    Manooj   26      7  Bhaugarah          200       Scooty\n",
       "5  Karishma   27      8   Morkheda          150          Bus\n",
       "6   Kripalu   28      9     Jaipur           20       CTX100"
      ]
     },
     "execution_count": 6,
     "metadata": {},
     "output_type": "execute_result"
    }
   ],
   "source": [
    "df.tail()"
   ]
  },
  {
   "cell_type": "code",
   "execution_count": 7,
   "id": "7e026ed2-4b33-4fab-94e3-6fadcf35b860",
   "metadata": {},
   "outputs": [
    {
     "data": {
      "text/html": [
       "<div>\n",
       "<style scoped>\n",
       "    .dataframe tbody tr th:only-of-type {\n",
       "        vertical-align: middle;\n",
       "    }\n",
       "\n",
       "    .dataframe tbody tr th {\n",
       "        vertical-align: top;\n",
       "    }\n",
       "\n",
       "    .dataframe thead th {\n",
       "        text-align: right;\n",
       "    }\n",
       "</style>\n",
       "<table border=\"1\" class=\"dataframe\">\n",
       "  <thead>\n",
       "    <tr style=\"text-align: right;\">\n",
       "      <th></th>\n",
       "      <th>Name</th>\n",
       "      <th>Age</th>\n",
       "      <th>Class</th>\n",
       "      <th>Place</th>\n",
       "      <th>Poket Money</th>\n",
       "      <th>vehical</th>\n",
       "    </tr>\n",
       "  </thead>\n",
       "  <tbody>\n",
       "    <tr>\n",
       "      <th>1</th>\n",
       "      <td>False</td>\n",
       "      <td>False</td>\n",
       "      <td>False</td>\n",
       "      <td>False</td>\n",
       "      <td>False</td>\n",
       "      <td>False</td>\n",
       "    </tr>\n",
       "    <tr>\n",
       "      <th>2</th>\n",
       "      <td>False</td>\n",
       "      <td>False</td>\n",
       "      <td>False</td>\n",
       "      <td>False</td>\n",
       "      <td>False</td>\n",
       "      <td>False</td>\n",
       "    </tr>\n",
       "    <tr>\n",
       "      <th>3</th>\n",
       "      <td>False</td>\n",
       "      <td>False</td>\n",
       "      <td>False</td>\n",
       "      <td>False</td>\n",
       "      <td>False</td>\n",
       "      <td>False</td>\n",
       "    </tr>\n",
       "    <tr>\n",
       "      <th>4</th>\n",
       "      <td>False</td>\n",
       "      <td>False</td>\n",
       "      <td>False</td>\n",
       "      <td>False</td>\n",
       "      <td>False</td>\n",
       "      <td>False</td>\n",
       "    </tr>\n",
       "    <tr>\n",
       "      <th>5</th>\n",
       "      <td>False</td>\n",
       "      <td>False</td>\n",
       "      <td>False</td>\n",
       "      <td>False</td>\n",
       "      <td>False</td>\n",
       "      <td>False</td>\n",
       "    </tr>\n",
       "    <tr>\n",
       "      <th>6</th>\n",
       "      <td>False</td>\n",
       "      <td>False</td>\n",
       "      <td>False</td>\n",
       "      <td>False</td>\n",
       "      <td>False</td>\n",
       "      <td>False</td>\n",
       "    </tr>\n",
       "  </tbody>\n",
       "</table>\n",
       "</div>"
      ],
      "text/plain": [
       "    Name    Age  Class  Place  Poket Money  vehical\n",
       "1  False  False  False  False        False    False\n",
       "2  False  False  False  False        False    False\n",
       "3  False  False  False  False        False    False\n",
       "4  False  False  False  False        False    False\n",
       "5  False  False  False  False        False    False\n",
       "6  False  False  False  False        False    False"
      ]
     },
     "execution_count": 7,
     "metadata": {},
     "output_type": "execute_result"
    }
   ],
   "source": [
    "df.isnull()"
   ]
  },
  {
   "cell_type": "code",
   "execution_count": 8,
   "id": "cf3d3548-821c-4a50-b878-42894a2bdfad",
   "metadata": {},
   "outputs": [
    {
     "name": "stdout",
     "output_type": "stream",
     "text": [
      "<class 'pandas.core.frame.DataFrame'>\n",
      "Index: 6 entries, 1 to 6\n",
      "Data columns (total 6 columns):\n",
      " #   Column       Non-Null Count  Dtype \n",
      "---  ------       --------------  ----- \n",
      " 0   Name         6 non-null      object\n",
      " 1   Age          6 non-null      int64 \n",
      " 2   Class        6 non-null      int64 \n",
      " 3   Place        6 non-null      object\n",
      " 4   Poket Money  6 non-null      int64 \n",
      " 5   vehical      6 non-null      object\n",
      "dtypes: int64(3), object(3)\n",
      "memory usage: 336.0+ bytes\n"
     ]
    }
   ],
   "source": [
    "df.info()"
   ]
  },
  {
   "cell_type": "code",
   "execution_count": 9,
   "id": "51b20584-a3f8-426c-85f3-9a450329f35e",
   "metadata": {},
   "outputs": [
    {
     "data": {
      "text/html": [
       "<div>\n",
       "<style scoped>\n",
       "    .dataframe tbody tr th:only-of-type {\n",
       "        vertical-align: middle;\n",
       "    }\n",
       "\n",
       "    .dataframe tbody tr th {\n",
       "        vertical-align: top;\n",
       "    }\n",
       "\n",
       "    .dataframe thead th {\n",
       "        text-align: right;\n",
       "    }\n",
       "</style>\n",
       "<table border=\"1\" class=\"dataframe\">\n",
       "  <thead>\n",
       "    <tr style=\"text-align: right;\">\n",
       "      <th></th>\n",
       "      <th>Age</th>\n",
       "      <th>Class</th>\n",
       "      <th>Poket Money</th>\n",
       "    </tr>\n",
       "  </thead>\n",
       "  <tbody>\n",
       "    <tr>\n",
       "      <th>count</th>\n",
       "      <td>6.000000</td>\n",
       "      <td>6.000000</td>\n",
       "      <td>6.000000</td>\n",
       "    </tr>\n",
       "    <tr>\n",
       "      <th>mean</th>\n",
       "      <td>25.500000</td>\n",
       "      <td>6.500000</td>\n",
       "      <td>328.333333</td>\n",
       "    </tr>\n",
       "    <tr>\n",
       "      <th>std</th>\n",
       "      <td>1.870829</td>\n",
       "      <td>1.870829</td>\n",
       "      <td>367.718189</td>\n",
       "    </tr>\n",
       "    <tr>\n",
       "      <th>min</th>\n",
       "      <td>23.000000</td>\n",
       "      <td>4.000000</td>\n",
       "      <td>20.000000</td>\n",
       "    </tr>\n",
       "    <tr>\n",
       "      <th>25%</th>\n",
       "      <td>24.250000</td>\n",
       "      <td>5.250000</td>\n",
       "      <td>112.500000</td>\n",
       "    </tr>\n",
       "    <tr>\n",
       "      <th>50%</th>\n",
       "      <td>25.500000</td>\n",
       "      <td>6.500000</td>\n",
       "      <td>175.000000</td>\n",
       "    </tr>\n",
       "    <tr>\n",
       "      <th>75%</th>\n",
       "      <td>26.750000</td>\n",
       "      <td>7.750000</td>\n",
       "      <td>425.000000</td>\n",
       "    </tr>\n",
       "    <tr>\n",
       "      <th>max</th>\n",
       "      <td>28.000000</td>\n",
       "      <td>9.000000</td>\n",
       "      <td>1000.000000</td>\n",
       "    </tr>\n",
       "  </tbody>\n",
       "</table>\n",
       "</div>"
      ],
      "text/plain": [
       "             Age     Class  Poket Money\n",
       "count   6.000000  6.000000     6.000000\n",
       "mean   25.500000  6.500000   328.333333\n",
       "std     1.870829  1.870829   367.718189\n",
       "min    23.000000  4.000000    20.000000\n",
       "25%    24.250000  5.250000   112.500000\n",
       "50%    25.500000  6.500000   175.000000\n",
       "75%    26.750000  7.750000   425.000000\n",
       "max    28.000000  9.000000  1000.000000"
      ]
     },
     "execution_count": 9,
     "metadata": {},
     "output_type": "execute_result"
    }
   ],
   "source": [
    "df.describe()"
   ]
  },
  {
   "cell_type": "code",
   "execution_count": 10,
   "id": "c9b4b789-30c9-4645-9be4-f6a211315869",
   "metadata": {},
   "outputs": [
    {
     "data": {
      "text/html": [
       "<div>\n",
       "<style scoped>\n",
       "    .dataframe tbody tr th:only-of-type {\n",
       "        vertical-align: middle;\n",
       "    }\n",
       "\n",
       "    .dataframe tbody tr th {\n",
       "        vertical-align: top;\n",
       "    }\n",
       "\n",
       "    .dataframe thead th {\n",
       "        text-align: right;\n",
       "    }\n",
       "</style>\n",
       "<table border=\"1\" class=\"dataframe\">\n",
       "  <thead>\n",
       "    <tr style=\"text-align: right;\">\n",
       "      <th></th>\n",
       "      <th>Name</th>\n",
       "      <th>Age</th>\n",
       "      <th>Class</th>\n",
       "      <th>Place</th>\n",
       "      <th>Poket Money</th>\n",
       "      <th>vehical</th>\n",
       "    </tr>\n",
       "  </thead>\n",
       "  <tbody>\n",
       "    <tr>\n",
       "      <th>1</th>\n",
       "      <td>Ashu</td>\n",
       "      <td>23</td>\n",
       "      <td>4</td>\n",
       "      <td>Ratlam</td>\n",
       "      <td>500</td>\n",
       "      <td>mercedes</td>\n",
       "    </tr>\n",
       "    <tr>\n",
       "      <th>2</th>\n",
       "      <td>Krishna</td>\n",
       "      <td>24</td>\n",
       "      <td>5</td>\n",
       "      <td>Ujjain</td>\n",
       "      <td>1000</td>\n",
       "      <td>lamborghini</td>\n",
       "    </tr>\n",
       "    <tr>\n",
       "      <th>3</th>\n",
       "      <td>Shashank</td>\n",
       "      <td>25</td>\n",
       "      <td>6</td>\n",
       "      <td>Mandsaur</td>\n",
       "      <td>100</td>\n",
       "      <td>Cycle</td>\n",
       "    </tr>\n",
       "    <tr>\n",
       "      <th>4</th>\n",
       "      <td>Manooj</td>\n",
       "      <td>26</td>\n",
       "      <td>7</td>\n",
       "      <td>Bhaugarah</td>\n",
       "      <td>200</td>\n",
       "      <td>Scooty</td>\n",
       "    </tr>\n",
       "    <tr>\n",
       "      <th>5</th>\n",
       "      <td>Karishma</td>\n",
       "      <td>27</td>\n",
       "      <td>8</td>\n",
       "      <td>Morkheda</td>\n",
       "      <td>150</td>\n",
       "      <td>Bus</td>\n",
       "    </tr>\n",
       "  </tbody>\n",
       "</table>\n",
       "</div>"
      ],
      "text/plain": [
       "       Name  Age  Class      Place  Poket Money      vehical\n",
       "1      Ashu   23      4     Ratlam          500     mercedes\n",
       "2   Krishna   24      5     Ujjain         1000  lamborghini\n",
       "3  Shashank   25      6   Mandsaur          100        Cycle\n",
       "4    Manooj   26      7  Bhaugarah          200       Scooty\n",
       "5  Karishma   27      8   Morkheda          150          Bus"
      ]
     },
     "execution_count": 10,
     "metadata": {},
     "output_type": "execute_result"
    }
   ],
   "source": [
    "df.head()"
   ]
  },
  {
   "cell_type": "code",
   "execution_count": 11,
   "id": "27bc0577-1b60-4a50-b9db-4b5e066d4402",
   "metadata": {},
   "outputs": [
    {
     "data": {
      "text/html": [
       "<div>\n",
       "<style scoped>\n",
       "    .dataframe tbody tr th:only-of-type {\n",
       "        vertical-align: middle;\n",
       "    }\n",
       "\n",
       "    .dataframe tbody tr th {\n",
       "        vertical-align: top;\n",
       "    }\n",
       "\n",
       "    .dataframe thead th {\n",
       "        text-align: right;\n",
       "    }\n",
       "</style>\n",
       "<table border=\"1\" class=\"dataframe\">\n",
       "  <thead>\n",
       "    <tr style=\"text-align: right;\">\n",
       "      <th></th>\n",
       "      <th>Name</th>\n",
       "      <th>Class</th>\n",
       "      <th>Poket Money</th>\n",
       "    </tr>\n",
       "  </thead>\n",
       "  <tbody>\n",
       "    <tr>\n",
       "      <th>1</th>\n",
       "      <td>Ashu</td>\n",
       "      <td>4</td>\n",
       "      <td>500</td>\n",
       "    </tr>\n",
       "    <tr>\n",
       "      <th>2</th>\n",
       "      <td>Krishna</td>\n",
       "      <td>5</td>\n",
       "      <td>1000</td>\n",
       "    </tr>\n",
       "    <tr>\n",
       "      <th>3</th>\n",
       "      <td>Shashank</td>\n",
       "      <td>6</td>\n",
       "      <td>100</td>\n",
       "    </tr>\n",
       "    <tr>\n",
       "      <th>4</th>\n",
       "      <td>Manooj</td>\n",
       "      <td>7</td>\n",
       "      <td>200</td>\n",
       "    </tr>\n",
       "    <tr>\n",
       "      <th>5</th>\n",
       "      <td>Karishma</td>\n",
       "      <td>8</td>\n",
       "      <td>150</td>\n",
       "    </tr>\n",
       "    <tr>\n",
       "      <th>6</th>\n",
       "      <td>Kripalu</td>\n",
       "      <td>9</td>\n",
       "      <td>20</td>\n",
       "    </tr>\n",
       "  </tbody>\n",
       "</table>\n",
       "</div>"
      ],
      "text/plain": [
       "       Name  Class  Poket Money\n",
       "1      Ashu      4          500\n",
       "2   Krishna      5         1000\n",
       "3  Shashank      6          100\n",
       "4    Manooj      7          200\n",
       "5  Karishma      8          150\n",
       "6   Kripalu      9           20"
      ]
     },
     "execution_count": 11,
     "metadata": {},
     "output_type": "execute_result"
    }
   ],
   "source": [
    "df[['Name','Class','Poket Money']]"
   ]
  },
  {
   "cell_type": "code",
   "execution_count": 12,
   "id": "9245225e-f7ed-4da3-bef2-69361bf3b8f3",
   "metadata": {},
   "outputs": [
    {
     "data": {
      "text/html": [
       "<div>\n",
       "<style scoped>\n",
       "    .dataframe tbody tr th:only-of-type {\n",
       "        vertical-align: middle;\n",
       "    }\n",
       "\n",
       "    .dataframe tbody tr th {\n",
       "        vertical-align: top;\n",
       "    }\n",
       "\n",
       "    .dataframe thead th {\n",
       "        text-align: right;\n",
       "    }\n",
       "</style>\n",
       "<table border=\"1\" class=\"dataframe\">\n",
       "  <thead>\n",
       "    <tr style=\"text-align: right;\">\n",
       "      <th></th>\n",
       "      <th>Poket Money</th>\n",
       "      <th>Name</th>\n",
       "    </tr>\n",
       "  </thead>\n",
       "  <tbody>\n",
       "    <tr>\n",
       "      <th>1</th>\n",
       "      <td>500</td>\n",
       "      <td>Ashu</td>\n",
       "    </tr>\n",
       "    <tr>\n",
       "      <th>2</th>\n",
       "      <td>1000</td>\n",
       "      <td>Krishna</td>\n",
       "    </tr>\n",
       "    <tr>\n",
       "      <th>3</th>\n",
       "      <td>100</td>\n",
       "      <td>Shashank</td>\n",
       "    </tr>\n",
       "    <tr>\n",
       "      <th>4</th>\n",
       "      <td>200</td>\n",
       "      <td>Manooj</td>\n",
       "    </tr>\n",
       "    <tr>\n",
       "      <th>5</th>\n",
       "      <td>150</td>\n",
       "      <td>Karishma</td>\n",
       "    </tr>\n",
       "    <tr>\n",
       "      <th>6</th>\n",
       "      <td>20</td>\n",
       "      <td>Kripalu</td>\n",
       "    </tr>\n",
       "  </tbody>\n",
       "</table>\n",
       "</div>"
      ],
      "text/plain": [
       "   Poket Money      Name\n",
       "1          500      Ashu\n",
       "2         1000   Krishna\n",
       "3          100  Shashank\n",
       "4          200    Manooj\n",
       "5          150  Karishma\n",
       "6           20   Kripalu"
      ]
     },
     "execution_count": 12,
     "metadata": {},
     "output_type": "execute_result"
    }
   ],
   "source": [
    "df[['Poket Money','Name']]"
   ]
  },
  {
   "cell_type": "markdown",
   "id": "d652b652-cafc-48ec-8c74-e0ff9ad0d521",
   "metadata": {},
   "source": [
    "# 2 indexing\n",
    "\n",
    "row indexing - [loc]"
   ]
  },
  {
   "cell_type": "code",
   "execution_count": 13,
   "id": "7a03472e-0fd1-4739-825e-11cac6573c34",
   "metadata": {},
   "outputs": [
    {
     "data": {
      "text/html": [
       "<div>\n",
       "<style scoped>\n",
       "    .dataframe tbody tr th:only-of-type {\n",
       "        vertical-align: middle;\n",
       "    }\n",
       "\n",
       "    .dataframe tbody tr th {\n",
       "        vertical-align: top;\n",
       "    }\n",
       "\n",
       "    .dataframe thead th {\n",
       "        text-align: right;\n",
       "    }\n",
       "</style>\n",
       "<table border=\"1\" class=\"dataframe\">\n",
       "  <thead>\n",
       "    <tr style=\"text-align: right;\">\n",
       "      <th></th>\n",
       "      <th>Name</th>\n",
       "      <th>Age</th>\n",
       "      <th>Class</th>\n",
       "      <th>Place</th>\n",
       "      <th>Poket Money</th>\n",
       "      <th>vehical</th>\n",
       "    </tr>\n",
       "  </thead>\n",
       "  <tbody>\n",
       "    <tr>\n",
       "      <th>4</th>\n",
       "      <td>Manooj</td>\n",
       "      <td>26</td>\n",
       "      <td>7</td>\n",
       "      <td>Bhaugarah</td>\n",
       "      <td>200</td>\n",
       "      <td>Scooty</td>\n",
       "    </tr>\n",
       "    <tr>\n",
       "      <th>5</th>\n",
       "      <td>Karishma</td>\n",
       "      <td>27</td>\n",
       "      <td>8</td>\n",
       "      <td>Morkheda</td>\n",
       "      <td>150</td>\n",
       "      <td>Bus</td>\n",
       "    </tr>\n",
       "  </tbody>\n",
       "</table>\n",
       "</div>"
      ],
      "text/plain": [
       "       Name  Age  Class      Place  Poket Money vehical\n",
       "4    Manooj   26      7  Bhaugarah          200  Scooty\n",
       "5  Karishma   27      8   Morkheda          150     Bus"
      ]
     },
     "execution_count": 13,
     "metadata": {},
     "output_type": "execute_result"
    }
   ],
   "source": [
    "df.loc[['4','5']]"
   ]
  },
  {
   "cell_type": "markdown",
   "id": "874599d3-8256-420e-af5b-593a984a2069",
   "metadata": {},
   "source": [
    "3. indexing\n",
    "\n",
    "iloc - index locating (row & column)"
   ]
  },
  {
   "cell_type": "code",
   "execution_count": 14,
   "id": "f31c459c-a60c-4a0d-805f-61085174853f",
   "metadata": {},
   "outputs": [
    {
     "data": {
      "text/html": [
       "<div>\n",
       "<style scoped>\n",
       "    .dataframe tbody tr th:only-of-type {\n",
       "        vertical-align: middle;\n",
       "    }\n",
       "\n",
       "    .dataframe tbody tr th {\n",
       "        vertical-align: top;\n",
       "    }\n",
       "\n",
       "    .dataframe thead th {\n",
       "        text-align: right;\n",
       "    }\n",
       "</style>\n",
       "<table border=\"1\" class=\"dataframe\">\n",
       "  <thead>\n",
       "    <tr style=\"text-align: right;\">\n",
       "      <th></th>\n",
       "      <th>Name</th>\n",
       "      <th>Age</th>\n",
       "      <th>Class</th>\n",
       "      <th>Place</th>\n",
       "      <th>Poket Money</th>\n",
       "      <th>vehical</th>\n",
       "    </tr>\n",
       "  </thead>\n",
       "  <tbody>\n",
       "    <tr>\n",
       "      <th>1</th>\n",
       "      <td>Ashu</td>\n",
       "      <td>23</td>\n",
       "      <td>4</td>\n",
       "      <td>Ratlam</td>\n",
       "      <td>500</td>\n",
       "      <td>mercedes</td>\n",
       "    </tr>\n",
       "    <tr>\n",
       "      <th>2</th>\n",
       "      <td>Krishna</td>\n",
       "      <td>24</td>\n",
       "      <td>5</td>\n",
       "      <td>Ujjain</td>\n",
       "      <td>1000</td>\n",
       "      <td>lamborghini</td>\n",
       "    </tr>\n",
       "    <tr>\n",
       "      <th>3</th>\n",
       "      <td>Shashank</td>\n",
       "      <td>25</td>\n",
       "      <td>6</td>\n",
       "      <td>Mandsaur</td>\n",
       "      <td>100</td>\n",
       "      <td>Cycle</td>\n",
       "    </tr>\n",
       "    <tr>\n",
       "      <th>4</th>\n",
       "      <td>Manooj</td>\n",
       "      <td>26</td>\n",
       "      <td>7</td>\n",
       "      <td>Bhaugarah</td>\n",
       "      <td>200</td>\n",
       "      <td>Scooty</td>\n",
       "    </tr>\n",
       "    <tr>\n",
       "      <th>5</th>\n",
       "      <td>Karishma</td>\n",
       "      <td>27</td>\n",
       "      <td>8</td>\n",
       "      <td>Morkheda</td>\n",
       "      <td>150</td>\n",
       "      <td>Bus</td>\n",
       "    </tr>\n",
       "    <tr>\n",
       "      <th>6</th>\n",
       "      <td>Kripalu</td>\n",
       "      <td>28</td>\n",
       "      <td>9</td>\n",
       "      <td>Jaipur</td>\n",
       "      <td>20</td>\n",
       "      <td>CTX100</td>\n",
       "    </tr>\n",
       "  </tbody>\n",
       "</table>\n",
       "</div>"
      ],
      "text/plain": [
       "       Name  Age  Class      Place  Poket Money      vehical\n",
       "1      Ashu   23      4     Ratlam          500     mercedes\n",
       "2   Krishna   24      5     Ujjain         1000  lamborghini\n",
       "3  Shashank   25      6   Mandsaur          100        Cycle\n",
       "4    Manooj   26      7  Bhaugarah          200       Scooty\n",
       "5  Karishma   27      8   Morkheda          150          Bus\n",
       "6   Kripalu   28      9     Jaipur           20       CTX100"
      ]
     },
     "execution_count": 14,
     "metadata": {},
     "output_type": "execute_result"
    }
   ],
   "source": [
    "df.head(6)"
   ]
  },
  {
   "cell_type": "code",
   "execution_count": 15,
   "id": "c6fb7c72-3e69-4bab-b9c7-3b2a9b6dfe29",
   "metadata": {},
   "outputs": [
    {
     "data": {
      "text/html": [
       "<div>\n",
       "<style scoped>\n",
       "    .dataframe tbody tr th:only-of-type {\n",
       "        vertical-align: middle;\n",
       "    }\n",
       "\n",
       "    .dataframe tbody tr th {\n",
       "        vertical-align: top;\n",
       "    }\n",
       "\n",
       "    .dataframe thead th {\n",
       "        text-align: right;\n",
       "    }\n",
       "</style>\n",
       "<table border=\"1\" class=\"dataframe\">\n",
       "  <thead>\n",
       "    <tr style=\"text-align: right;\">\n",
       "      <th></th>\n",
       "      <th>Name</th>\n",
       "      <th>Age</th>\n",
       "    </tr>\n",
       "  </thead>\n",
       "  <tbody>\n",
       "    <tr>\n",
       "      <th>1</th>\n",
       "      <td>Ashu</td>\n",
       "      <td>23</td>\n",
       "    </tr>\n",
       "    <tr>\n",
       "      <th>2</th>\n",
       "      <td>Krishna</td>\n",
       "      <td>24</td>\n",
       "    </tr>\n",
       "    <tr>\n",
       "      <th>3</th>\n",
       "      <td>Shashank</td>\n",
       "      <td>25</td>\n",
       "    </tr>\n",
       "    <tr>\n",
       "      <th>4</th>\n",
       "      <td>Manooj</td>\n",
       "      <td>26</td>\n",
       "    </tr>\n",
       "    <tr>\n",
       "      <th>5</th>\n",
       "      <td>Karishma</td>\n",
       "      <td>27</td>\n",
       "    </tr>\n",
       "    <tr>\n",
       "      <th>6</th>\n",
       "      <td>Kripalu</td>\n",
       "      <td>28</td>\n",
       "    </tr>\n",
       "  </tbody>\n",
       "</table>\n",
       "</div>"
      ],
      "text/plain": [
       "       Name  Age\n",
       "1      Ashu   23\n",
       "2   Krishna   24\n",
       "3  Shashank   25\n",
       "4    Manooj   26\n",
       "5  Karishma   27\n",
       "6   Kripalu   28"
      ]
     },
     "execution_count": 15,
     "metadata": {},
     "output_type": "execute_result"
    }
   ],
   "source": [
    "df.iloc[0:6,0:2]"
   ]
  },
  {
   "cell_type": "code",
   "execution_count": 16,
   "id": "81f31bc8-9649-41d5-80e5-b5543d54e8b7",
   "metadata": {},
   "outputs": [
    {
     "data": {
      "text/html": [
       "<div>\n",
       "<style scoped>\n",
       "    .dataframe tbody tr th:only-of-type {\n",
       "        vertical-align: middle;\n",
       "    }\n",
       "\n",
       "    .dataframe tbody tr th {\n",
       "        vertical-align: top;\n",
       "    }\n",
       "\n",
       "    .dataframe thead th {\n",
       "        text-align: right;\n",
       "    }\n",
       "</style>\n",
       "<table border=\"1\" class=\"dataframe\">\n",
       "  <thead>\n",
       "    <tr style=\"text-align: right;\">\n",
       "      <th></th>\n",
       "      <th>Age</th>\n",
       "    </tr>\n",
       "  </thead>\n",
       "  <tbody>\n",
       "    <tr>\n",
       "      <th>5</th>\n",
       "      <td>27</td>\n",
       "    </tr>\n",
       "  </tbody>\n",
       "</table>\n",
       "</div>"
      ],
      "text/plain": [
       "   Age\n",
       "5   27"
      ]
     },
     "execution_count": 16,
     "metadata": {},
     "output_type": "execute_result"
    }
   ],
   "source": [
    "df.iloc[4:5,1:2]"
   ]
  },
  {
   "cell_type": "code",
   "execution_count": 17,
   "id": "a148b732-52be-43db-9d11-fcc40b6f1398",
   "metadata": {},
   "outputs": [
    {
     "data": {
      "text/html": [
       "<div>\n",
       "<style scoped>\n",
       "    .dataframe tbody tr th:only-of-type {\n",
       "        vertical-align: middle;\n",
       "    }\n",
       "\n",
       "    .dataframe tbody tr th {\n",
       "        vertical-align: top;\n",
       "    }\n",
       "\n",
       "    .dataframe thead th {\n",
       "        text-align: right;\n",
       "    }\n",
       "</style>\n",
       "<table border=\"1\" class=\"dataframe\">\n",
       "  <thead>\n",
       "    <tr style=\"text-align: right;\">\n",
       "      <th></th>\n",
       "      <th>Age</th>\n",
       "    </tr>\n",
       "  </thead>\n",
       "  <tbody>\n",
       "    <tr>\n",
       "      <th>2</th>\n",
       "      <td>24</td>\n",
       "    </tr>\n",
       "    <tr>\n",
       "      <th>3</th>\n",
       "      <td>25</td>\n",
       "    </tr>\n",
       "    <tr>\n",
       "      <th>4</th>\n",
       "      <td>26</td>\n",
       "    </tr>\n",
       "    <tr>\n",
       "      <th>5</th>\n",
       "      <td>27</td>\n",
       "    </tr>\n",
       "    <tr>\n",
       "      <th>6</th>\n",
       "      <td>28</td>\n",
       "    </tr>\n",
       "  </tbody>\n",
       "</table>\n",
       "</div>"
      ],
      "text/plain": [
       "   Age\n",
       "2   24\n",
       "3   25\n",
       "4   26\n",
       "5   27\n",
       "6   28"
      ]
     },
     "execution_count": 17,
     "metadata": {},
     "output_type": "execute_result"
    }
   ],
   "source": [
    "df.iloc[1:6,1:2]"
   ]
  },
  {
   "cell_type": "code",
   "execution_count": 18,
   "id": "b41a608f-9e74-4f29-bfe3-0962fff9e409",
   "metadata": {},
   "outputs": [
    {
     "data": {
      "text/html": [
       "<div>\n",
       "<style scoped>\n",
       "    .dataframe tbody tr th:only-of-type {\n",
       "        vertical-align: middle;\n",
       "    }\n",
       "\n",
       "    .dataframe tbody tr th {\n",
       "        vertical-align: top;\n",
       "    }\n",
       "\n",
       "    .dataframe thead th {\n",
       "        text-align: right;\n",
       "    }\n",
       "</style>\n",
       "<table border=\"1\" class=\"dataframe\">\n",
       "  <thead>\n",
       "    <tr style=\"text-align: right;\">\n",
       "      <th></th>\n",
       "      <th>vehical</th>\n",
       "    </tr>\n",
       "  </thead>\n",
       "  <tbody>\n",
       "    <tr>\n",
       "      <th>1</th>\n",
       "      <td>mercedes</td>\n",
       "    </tr>\n",
       "    <tr>\n",
       "      <th>2</th>\n",
       "      <td>lamborghini</td>\n",
       "    </tr>\n",
       "    <tr>\n",
       "      <th>3</th>\n",
       "      <td>Cycle</td>\n",
       "    </tr>\n",
       "    <tr>\n",
       "      <th>4</th>\n",
       "      <td>Scooty</td>\n",
       "    </tr>\n",
       "    <tr>\n",
       "      <th>5</th>\n",
       "      <td>Bus</td>\n",
       "    </tr>\n",
       "    <tr>\n",
       "      <th>6</th>\n",
       "      <td>CTX100</td>\n",
       "    </tr>\n",
       "  </tbody>\n",
       "</table>\n",
       "</div>"
      ],
      "text/plain": [
       "       vehical\n",
       "1     mercedes\n",
       "2  lamborghini\n",
       "3        Cycle\n",
       "4       Scooty\n",
       "5          Bus\n",
       "6       CTX100"
      ]
     },
     "execution_count": 18,
     "metadata": {},
     "output_type": "execute_result"
    }
   ],
   "source": [
    "df.iloc[0:6,5:]"
   ]
  },
  {
   "cell_type": "markdown",
   "id": "299243bd-458d-4c3e-898c-73afc8a16779",
   "metadata": {},
   "source": [
    "# conver dataframe into arrays"
   ]
  },
  {
   "cell_type": "code",
   "execution_count": 19,
   "id": "98a25d29-9877-4817-93ab-a0aca2982ba7",
   "metadata": {},
   "outputs": [
    {
     "data": {
      "text/plain": [
       "array([[23, 4, 'Ratlam', 500, 'mercedes'],\n",
       "       [24, 5, 'Ujjain', 1000, 'lamborghini'],\n",
       "       [25, 6, 'Mandsaur', 100, 'Cycle'],\n",
       "       [26, 7, 'Bhaugarah', 200, 'Scooty'],\n",
       "       [27, 8, 'Morkheda', 150, 'Bus'],\n",
       "       [28, 9, 'Jaipur', 20, 'CTX100']], dtype=object)"
      ]
     },
     "execution_count": 19,
     "metadata": {},
     "output_type": "execute_result"
    }
   ],
   "source": [
    "df.iloc[:,1:].values"
   ]
  },
  {
   "cell_type": "markdown",
   "id": "f4e75960-a379-4b4b-9705-c16dcb56937e",
   "metadata": {},
   "source": [
    "# 3. Basic operations"
   ]
  },
  {
   "cell_type": "code",
   "execution_count": 20,
   "id": "1aea78a4-03b0-4196-ae64-fccbdad588d4",
   "metadata": {},
   "outputs": [
    {
     "data": {
      "text/plain": [
       "Name           0\n",
       "Age            0\n",
       "Class          0\n",
       "Place          0\n",
       "Poket Money    0\n",
       "vehical        0\n",
       "dtype: int64"
      ]
     },
     "execution_count": 20,
     "metadata": {},
     "output_type": "execute_result"
    }
   ],
   "source": [
    "df.isnull().sum()"
   ]
  },
  {
   "cell_type": "markdown",
   "id": "49b72c6e-c312-4e8e-a190-53a050efcdb9",
   "metadata": {},
   "source": [
    "# To check vlaue count of specific column"
   ]
  },
  {
   "cell_type": "code",
   "execution_count": 21,
   "id": "dcbbb05f-602e-4482-9339-ae2ceefce598",
   "metadata": {},
   "outputs": [
    {
     "data": {
      "text/plain": [
       "Age\n",
       "23    1\n",
       "24    1\n",
       "25    1\n",
       "26    1\n",
       "27    1\n",
       "28    1\n",
       "Name: count, dtype: int64"
      ]
     },
     "execution_count": 21,
     "metadata": {},
     "output_type": "execute_result"
    }
   ],
   "source": [
    "df['Age'].value_counts()"
   ]
  },
  {
   "cell_type": "code",
   "execution_count": null,
   "id": "87a0e1b6-45a5-4288-9b91-ac32759ec680",
   "metadata": {},
   "outputs": [],
   "source": []
  },
  {
   "cell_type": "code",
   "execution_count": 22,
   "id": "bbe3526f-5c52-480f-92e8-199bcb5ef9bb",
   "metadata": {},
   "outputs": [
    {
     "data": {
      "text/plain": [
       "array([23, 24, 25, 26, 27, 28], dtype=int64)"
      ]
     },
     "execution_count": 22,
     "metadata": {},
     "output_type": "execute_result"
    }
   ],
   "source": [
    "df['Age'].unique()"
   ]
  },
  {
   "cell_type": "code",
   "execution_count": null,
   "id": "c1edea1e-5343-49c5-a8ad-f5d87686c0b7",
   "metadata": {},
   "outputs": [],
   "source": []
  },
  {
   "cell_type": "code",
   "execution_count": 23,
   "id": "d1e10e9b-af2b-4cd9-9fc2-670db6611662",
   "metadata": {},
   "outputs": [
    {
     "data": {
      "text/plain": [
       "1    False\n",
       "2    False\n",
       "3    False\n",
       "4     True\n",
       "5     True\n",
       "6     True\n",
       "Name: Age, dtype: bool"
      ]
     },
     "execution_count": 23,
     "metadata": {},
     "output_type": "execute_result"
    }
   ],
   "source": [
    "df['Age']>25"
   ]
  },
  {
   "cell_type": "markdown",
   "id": "fa137633-f504-492d-bace-0d98c043b691",
   "metadata": {},
   "source": [
    "# Series\n",
    "\n",
    "To create Series in Pandas"
   ]
  },
  {
   "cell_type": "code",
   "execution_count": 24,
   "id": "882a7ac0-8e97-40e5-af7b-6510261423ce",
   "metadata": {},
   "outputs": [
    {
     "data": {
      "text/plain": [
       "'2.1.4'"
      ]
     },
     "execution_count": 24,
     "metadata": {},
     "output_type": "execute_result"
    }
   ],
   "source": [
    "pd.__version__"
   ]
  },
  {
   "cell_type": "code",
   "execution_count": 25,
   "id": "f681c796-4c44-4a5e-9ae9-24e1d4e2acfa",
   "metadata": {},
   "outputs": [
    {
     "name": "stdout",
     "output_type": "stream",
     "text": [
      "[1, 2, 3, 6.2, 'data values']\n"
     ]
    }
   ],
   "source": [
    "list_1 = [1,2,3,6.2,\"data values\"]\n",
    "print(list_1)"
   ]
  },
  {
   "cell_type": "code",
   "execution_count": 28,
   "id": "24cc7b3b-0f17-44ec-9317-c824dd0e6893",
   "metadata": {},
   "outputs": [
    {
     "name": "stdout",
     "output_type": "stream",
     "text": [
      "0              1\n",
      "1              2\n",
      "2              3\n",
      "3            6.2\n",
      "4    data values\n",
      "dtype: object\n"
     ]
    },
    {
     "data": {
      "text/plain": [
       "0              1\n",
       "1              2\n",
       "2              3\n",
       "3              4\n",
       "4    data_values\n",
       "dtype: object"
      ]
     },
     "execution_count": 28,
     "metadata": {},
     "output_type": "execute_result"
    }
   ],
   "source": [
    "Series_1  = pd.Series(list_1)\n",
    "print(Series_1)\n",
    "\n",
    "# or\n",
    "\n",
    "Series_2 = pd.Series([1,2,3,4,\"data_values\"])\n",
    "Series_2"
   ]
  },
  {
   "cell_type": "code",
   "execution_count": 27,
   "id": "43f75642-9569-4a11-af4d-a42d81de9977",
   "metadata": {},
   "outputs": [
    {
     "data": {
      "text/plain": [
       "pandas.core.series.Series"
      ]
     },
     "execution_count": 27,
     "metadata": {},
     "output_type": "execute_result"
    }
   ],
   "source": [
    "type(Series_1)"
   ]
  },
  {
   "cell_type": "markdown",
   "id": "d8e7e354-dd6b-4ca0-993b-89d31487ee09",
   "metadata": {},
   "source": [
    "1.1 Creating Series in short method"
   ]
  },
  {
   "cell_type": "code",
   "execution_count": 46,
   "id": "b606c612-c696-4204-bcdd-1092caaa596d",
   "metadata": {},
   "outputs": [
    {
     "data": {
      "text/html": [
       "<div>\n",
       "<style scoped>\n",
       "    .dataframe tbody tr th:only-of-type {\n",
       "        vertical-align: middle;\n",
       "    }\n",
       "\n",
       "    .dataframe tbody tr th {\n",
       "        vertical-align: top;\n",
       "    }\n",
       "\n",
       "    .dataframe thead th {\n",
       "        text-align: right;\n",
       "    }\n",
       "</style>\n",
       "<table border=\"1\" class=\"dataframe\">\n",
       "  <thead>\n",
       "    <tr style=\"text-align: right;\">\n",
       "      <th></th>\n",
       "      <th>age</th>\n",
       "      <th>gender</th>\n",
       "      <th>fever</th>\n",
       "      <th>cough</th>\n",
       "      <th>city</th>\n",
       "      <th>has_covid</th>\n",
       "    </tr>\n",
       "  </thead>\n",
       "  <tbody>\n",
       "    <tr>\n",
       "      <th>0</th>\n",
       "      <td>60.0</td>\n",
       "      <td>Male</td>\n",
       "      <td>103.0</td>\n",
       "      <td>Mild</td>\n",
       "      <td>Kolkata</td>\n",
       "      <td>No</td>\n",
       "    </tr>\n",
       "    <tr>\n",
       "      <th>1</th>\n",
       "      <td>27.0</td>\n",
       "      <td>Male</td>\n",
       "      <td>100.0</td>\n",
       "      <td>Mild</td>\n",
       "      <td>Delhi</td>\n",
       "      <td>Yes</td>\n",
       "    </tr>\n",
       "    <tr>\n",
       "      <th>2</th>\n",
       "      <td>42.0</td>\n",
       "      <td>Male</td>\n",
       "      <td>101.0</td>\n",
       "      <td>Mild</td>\n",
       "      <td>Delhi</td>\n",
       "      <td>No</td>\n",
       "    </tr>\n",
       "    <tr>\n",
       "      <th>3</th>\n",
       "      <td>31.0</td>\n",
       "      <td>Female</td>\n",
       "      <td>98.0</td>\n",
       "      <td>Mild</td>\n",
       "      <td>Kolkata</td>\n",
       "      <td>No</td>\n",
       "    </tr>\n",
       "    <tr>\n",
       "      <th>4</th>\n",
       "      <td>65.0</td>\n",
       "      <td>Female</td>\n",
       "      <td>101.0</td>\n",
       "      <td>Mild</td>\n",
       "      <td>Mumbai</td>\n",
       "      <td>No</td>\n",
       "    </tr>\n",
       "  </tbody>\n",
       "</table>\n",
       "</div>"
      ],
      "text/plain": [
       "    age  gender  fever cough     city has_covid\n",
       "0  60.0    Male  103.0  Mild  Kolkata        No\n",
       "1  27.0    Male  100.0  Mild    Delhi       Yes\n",
       "2  42.0    Male  101.0  Mild    Delhi        No\n",
       "3  31.0  Female   98.0  Mild  Kolkata        No\n",
       "4  65.0  Female  101.0  Mild   Mumbai        No"
      ]
     },
     "execution_count": 46,
     "metadata": {},
     "output_type": "execute_result"
    }
   ],
   "source": [
    "data = pd.read_csv(\"C:\\\\Users\\\\AdityaRaj Sharma\\\\Python Data sets\\\\covid_toy.csv\",dtype = {'age':'float64'})\n",
    "data.head()"
   ]
  },
  {
   "cell_type": "code",
   "execution_count": 44,
   "id": "0f07e9c4-377d-4d8e-a153-8676543fd526",
   "metadata": {},
   "outputs": [
    {
     "name": "stdout",
     "output_type": "stream",
     "text": [
      "<class 'pandas.core.frame.DataFrame'>\n",
      "RangeIndex: 100 entries, 0 to 99\n",
      "Data columns (total 6 columns):\n",
      " #   Column     Non-Null Count  Dtype  \n",
      "---  ------     --------------  -----  \n",
      " 0   age        100 non-null    int64  \n",
      " 1   gender     100 non-null    object \n",
      " 2   fever      90 non-null     float64\n",
      " 3   cough      100 non-null    object \n",
      " 4   city       100 non-null    object \n",
      " 5   has_covid  100 non-null    object \n",
      "dtypes: float64(1), int64(1), object(4)\n",
      "memory usage: 4.8+ KB\n"
     ]
    }
   ],
   "source": [
    "data.info()"
   ]
  },
  {
   "cell_type": "markdown",
   "id": "cead0d49-afc7-4914-9e2f-5054ef143067",
   "metadata": {},
   "source": [
    "after changes dtype\n",
    "\"age feature\" data type changed from \"int64 \" to \"float64\""
   ]
  },
  {
   "cell_type": "code",
   "execution_count": 47,
   "id": "1300a0b3-af0e-4610-b82c-a70656dc9be2",
   "metadata": {},
   "outputs": [
    {
     "name": "stdout",
     "output_type": "stream",
     "text": [
      "<class 'pandas.core.frame.DataFrame'>\n",
      "RangeIndex: 100 entries, 0 to 99\n",
      "Data columns (total 6 columns):\n",
      " #   Column     Non-Null Count  Dtype  \n",
      "---  ------     --------------  -----  \n",
      " 0   age        100 non-null    float64\n",
      " 1   gender     100 non-null    object \n",
      " 2   fever      90 non-null     float64\n",
      " 3   cough      100 non-null    object \n",
      " 4   city       100 non-null    object \n",
      " 5   has_covid  100 non-null    object \n",
      "dtypes: float64(2), object(4)\n",
      "memory usage: 4.8+ KB\n"
     ]
    }
   ],
   "source": [
    "\n",
    "data.info()"
   ]
  },
  {
   "cell_type": "code",
   "execution_count": 50,
   "id": "87ec82f9-35b8-4591-8fe5-e709f3b9479f",
   "metadata": {},
   "outputs": [
    {
     "data": {
      "text/html": [
       "<div>\n",
       "<style scoped>\n",
       "    .dataframe tbody tr th:only-of-type {\n",
       "        vertical-align: middle;\n",
       "    }\n",
       "\n",
       "    .dataframe tbody tr th {\n",
       "        vertical-align: top;\n",
       "    }\n",
       "\n",
       "    .dataframe thead th {\n",
       "        text-align: right;\n",
       "    }\n",
       "</style>\n",
       "<table border=\"1\" class=\"dataframe\">\n",
       "  <thead>\n",
       "    <tr style=\"text-align: right;\">\n",
       "      <th></th>\n",
       "      <th>Name</th>\n",
       "      <th>Age</th>\n",
       "      <th>Class</th>\n",
       "      <th>Place</th>\n",
       "      <th>Poket Money</th>\n",
       "      <th>vehical</th>\n",
       "    </tr>\n",
       "  </thead>\n",
       "  <tbody>\n",
       "    <tr>\n",
       "      <th>1</th>\n",
       "      <td>Ashu</td>\n",
       "      <td>23</td>\n",
       "      <td>4</td>\n",
       "      <td>Ratlam</td>\n",
       "      <td>500</td>\n",
       "      <td>mercedes</td>\n",
       "    </tr>\n",
       "    <tr>\n",
       "      <th>2</th>\n",
       "      <td>Krishna</td>\n",
       "      <td>24</td>\n",
       "      <td>5</td>\n",
       "      <td>Ujjain</td>\n",
       "      <td>1000</td>\n",
       "      <td>lamborghini</td>\n",
       "    </tr>\n",
       "    <tr>\n",
       "      <th>3</th>\n",
       "      <td>Shashank</td>\n",
       "      <td>25</td>\n",
       "      <td>6</td>\n",
       "      <td>Mandsaur</td>\n",
       "      <td>100</td>\n",
       "      <td>Cycle</td>\n",
       "    </tr>\n",
       "    <tr>\n",
       "      <th>4</th>\n",
       "      <td>Manooj</td>\n",
       "      <td>26</td>\n",
       "      <td>7</td>\n",
       "      <td>Bhaugarah</td>\n",
       "      <td>200</td>\n",
       "      <td>Scooty</td>\n",
       "    </tr>\n",
       "    <tr>\n",
       "      <th>5</th>\n",
       "      <td>Karishma</td>\n",
       "      <td>27</td>\n",
       "      <td>8</td>\n",
       "      <td>Morkheda</td>\n",
       "      <td>150</td>\n",
       "      <td>Bus</td>\n",
       "    </tr>\n",
       "    <tr>\n",
       "      <th>6</th>\n",
       "      <td>Kripalu</td>\n",
       "      <td>28</td>\n",
       "      <td>9</td>\n",
       "      <td>Jaipur</td>\n",
       "      <td>20</td>\n",
       "      <td>CTX100</td>\n",
       "    </tr>\n",
       "  </tbody>\n",
       "</table>\n",
       "</div>"
      ],
      "text/plain": [
       "       Name  Age  Class      Place  Poket Money      vehical\n",
       "1      Ashu   23      4     Ratlam          500     mercedes\n",
       "2   Krishna   24      5     Ujjain         1000  lamborghini\n",
       "3  Shashank   25      6   Mandsaur          100        Cycle\n",
       "4    Manooj   26      7  Bhaugarah          200       Scooty\n",
       "5  Karishma   27      8   Morkheda          150          Bus\n",
       "6   Kripalu   28      9     Jaipur           20       CTX100"
      ]
     },
     "execution_count": 50,
     "metadata": {},
     "output_type": "execute_result"
    }
   ],
   "source": [
    "df"
   ]
  },
  {
   "cell_type": "markdown",
   "id": "54b0d42c-3a0f-4950-9cef-b5eeaa398b5c",
   "metadata": {},
   "source": [
    "# to add columns into dataFrame"
   ]
  },
  {
   "cell_type": "code",
   "execution_count": 54,
   "id": "487a4ce9-46e4-44ea-96d3-4013f0b06a3c",
   "metadata": {},
   "outputs": [
    {
     "data": {
      "text/html": [
       "<div>\n",
       "<style scoped>\n",
       "    .dataframe tbody tr th:only-of-type {\n",
       "        vertical-align: middle;\n",
       "    }\n",
       "\n",
       "    .dataframe tbody tr th {\n",
       "        vertical-align: top;\n",
       "    }\n",
       "\n",
       "    .dataframe thead th {\n",
       "        text-align: right;\n",
       "    }\n",
       "</style>\n",
       "<table border=\"1\" class=\"dataframe\">\n",
       "  <thead>\n",
       "    <tr style=\"text-align: right;\">\n",
       "      <th></th>\n",
       "      <th>Name</th>\n",
       "      <th>Age</th>\n",
       "      <th>Class</th>\n",
       "      <th>Place</th>\n",
       "      <th>Poket Money</th>\n",
       "      <th>vehical</th>\n",
       "      <th>Date</th>\n",
       "    </tr>\n",
       "  </thead>\n",
       "  <tbody>\n",
       "    <tr>\n",
       "      <th>1</th>\n",
       "      <td>Ashu</td>\n",
       "      <td>23</td>\n",
       "      <td>4</td>\n",
       "      <td>Ratlam</td>\n",
       "      <td>500</td>\n",
       "      <td>mercedes</td>\n",
       "      <td>yes</td>\n",
       "    </tr>\n",
       "    <tr>\n",
       "      <th>2</th>\n",
       "      <td>Krishna</td>\n",
       "      <td>24</td>\n",
       "      <td>5</td>\n",
       "      <td>Ujjain</td>\n",
       "      <td>1000</td>\n",
       "      <td>lamborghini</td>\n",
       "      <td>no</td>\n",
       "    </tr>\n",
       "    <tr>\n",
       "      <th>3</th>\n",
       "      <td>Shashank</td>\n",
       "      <td>25</td>\n",
       "      <td>6</td>\n",
       "      <td>Mandsaur</td>\n",
       "      <td>100</td>\n",
       "      <td>Cycle</td>\n",
       "      <td>no</td>\n",
       "    </tr>\n",
       "    <tr>\n",
       "      <th>4</th>\n",
       "      <td>Manooj</td>\n",
       "      <td>26</td>\n",
       "      <td>7</td>\n",
       "      <td>Bhaugarah</td>\n",
       "      <td>200</td>\n",
       "      <td>Scooty</td>\n",
       "      <td>no</td>\n",
       "    </tr>\n",
       "    <tr>\n",
       "      <th>5</th>\n",
       "      <td>Karishma</td>\n",
       "      <td>27</td>\n",
       "      <td>8</td>\n",
       "      <td>Morkheda</td>\n",
       "      <td>150</td>\n",
       "      <td>Bus</td>\n",
       "      <td>no</td>\n",
       "    </tr>\n",
       "    <tr>\n",
       "      <th>6</th>\n",
       "      <td>Kripalu</td>\n",
       "      <td>28</td>\n",
       "      <td>9</td>\n",
       "      <td>Jaipur</td>\n",
       "      <td>20</td>\n",
       "      <td>CTX100</td>\n",
       "      <td>yes</td>\n",
       "    </tr>\n",
       "  </tbody>\n",
       "</table>\n",
       "</div>"
      ],
      "text/plain": [
       "       Name  Age  Class      Place  Poket Money      vehical Date\n",
       "1      Ashu   23      4     Ratlam          500     mercedes  yes\n",
       "2   Krishna   24      5     Ujjain         1000  lamborghini   no\n",
       "3  Shashank   25      6   Mandsaur          100        Cycle   no\n",
       "4    Manooj   26      7  Bhaugarah          200       Scooty   no\n",
       "5  Karishma   27      8   Morkheda          150          Bus   no\n",
       "6   Kripalu   28      9     Jaipur           20       CTX100  yes"
      ]
     },
     "execution_count": 54,
     "metadata": {},
     "output_type": "execute_result"
    }
   ],
   "source": [
    "import numpy as np\n",
    "df['Date'] = np.random.choice(['yes', 'no'],size = len(df))\n",
    "df"
   ]
  },
  {
   "cell_type": "code",
   "execution_count": 57,
   "id": "376c4c39-09b8-4c5c-9609-dc75a5e9fb3b",
   "metadata": {},
   "outputs": [
    {
     "data": {
      "text/html": [
       "<div>\n",
       "<style scoped>\n",
       "    .dataframe tbody tr th:only-of-type {\n",
       "        vertical-align: middle;\n",
       "    }\n",
       "\n",
       "    .dataframe tbody tr th {\n",
       "        vertical-align: top;\n",
       "    }\n",
       "\n",
       "    .dataframe thead th {\n",
       "        text-align: right;\n",
       "    }\n",
       "</style>\n",
       "<table border=\"1\" class=\"dataframe\">\n",
       "  <thead>\n",
       "    <tr style=\"text-align: right;\">\n",
       "      <th></th>\n",
       "      <th>Name</th>\n",
       "      <th>Age</th>\n",
       "      <th>Class</th>\n",
       "      <th>Place</th>\n",
       "      <th>Poket Money</th>\n",
       "      <th>vehical</th>\n",
       "      <th>Date</th>\n",
       "      <th>bool</th>\n",
       "    </tr>\n",
       "  </thead>\n",
       "  <tbody>\n",
       "    <tr>\n",
       "      <th>1</th>\n",
       "      <td>Ashu</td>\n",
       "      <td>23</td>\n",
       "      <td>4</td>\n",
       "      <td>Ratlam</td>\n",
       "      <td>500</td>\n",
       "      <td>mercedes</td>\n",
       "      <td>yes</td>\n",
       "      <td>True</td>\n",
       "    </tr>\n",
       "    <tr>\n",
       "      <th>2</th>\n",
       "      <td>Krishna</td>\n",
       "      <td>24</td>\n",
       "      <td>5</td>\n",
       "      <td>Ujjain</td>\n",
       "      <td>1000</td>\n",
       "      <td>lamborghini</td>\n",
       "      <td>no</td>\n",
       "      <td>False</td>\n",
       "    </tr>\n",
       "    <tr>\n",
       "      <th>3</th>\n",
       "      <td>Shashank</td>\n",
       "      <td>25</td>\n",
       "      <td>6</td>\n",
       "      <td>Mandsaur</td>\n",
       "      <td>100</td>\n",
       "      <td>Cycle</td>\n",
       "      <td>no</td>\n",
       "      <td>True</td>\n",
       "    </tr>\n",
       "    <tr>\n",
       "      <th>4</th>\n",
       "      <td>Manooj</td>\n",
       "      <td>26</td>\n",
       "      <td>7</td>\n",
       "      <td>Bhaugarah</td>\n",
       "      <td>200</td>\n",
       "      <td>Scooty</td>\n",
       "      <td>no</td>\n",
       "      <td>False</td>\n",
       "    </tr>\n",
       "    <tr>\n",
       "      <th>5</th>\n",
       "      <td>Karishma</td>\n",
       "      <td>27</td>\n",
       "      <td>8</td>\n",
       "      <td>Morkheda</td>\n",
       "      <td>150</td>\n",
       "      <td>Bus</td>\n",
       "      <td>no</td>\n",
       "      <td>True</td>\n",
       "    </tr>\n",
       "    <tr>\n",
       "      <th>6</th>\n",
       "      <td>Kripalu</td>\n",
       "      <td>28</td>\n",
       "      <td>9</td>\n",
       "      <td>Jaipur</td>\n",
       "      <td>20</td>\n",
       "      <td>CTX100</td>\n",
       "      <td>yes</td>\n",
       "      <td>False</td>\n",
       "    </tr>\n",
       "  </tbody>\n",
       "</table>\n",
       "</div>"
      ],
      "text/plain": [
       "       Name  Age  Class      Place  Poket Money      vehical Date   bool\n",
       "1      Ashu   23      4     Ratlam          500     mercedes  yes   True\n",
       "2   Krishna   24      5     Ujjain         1000  lamborghini   no  False\n",
       "3  Shashank   25      6   Mandsaur          100        Cycle   no   True\n",
       "4    Manooj   26      7  Bhaugarah          200       Scooty   no  False\n",
       "5  Karishma   27      8   Morkheda          150          Bus   no   True\n",
       "6   Kripalu   28      9     Jaipur           20       CTX100  yes  False"
      ]
     },
     "execution_count": 57,
     "metadata": {},
     "output_type": "execute_result"
    }
   ],
   "source": [
    "df['bool'] = (['True', 'False','True', 'False', 'True', 'False'])\n",
    "df"
   ]
  },
  {
   "cell_type": "code",
   "execution_count": 69,
   "id": "815f9c6e-ea75-497e-b31e-e78c120afb78",
   "metadata": {},
   "outputs": [
    {
     "data": {
      "text/html": [
       "<div>\n",
       "<style scoped>\n",
       "    .dataframe tbody tr th:only-of-type {\n",
       "        vertical-align: middle;\n",
       "    }\n",
       "\n",
       "    .dataframe tbody tr th {\n",
       "        vertical-align: top;\n",
       "    }\n",
       "\n",
       "    .dataframe thead th {\n",
       "        text-align: right;\n",
       "    }\n",
       "</style>\n",
       "<table border=\"1\" class=\"dataframe\">\n",
       "  <thead>\n",
       "    <tr style=\"text-align: right;\">\n",
       "      <th></th>\n",
       "      <th>Name</th>\n",
       "      <th>Age</th>\n",
       "      <th>Class</th>\n",
       "      <th>Place</th>\n",
       "      <th>Poket Money</th>\n",
       "      <th>vehical</th>\n",
       "      <th>Date</th>\n",
       "      <th>bool</th>\n",
       "      <th>Data</th>\n",
       "    </tr>\n",
       "  </thead>\n",
       "  <tbody>\n",
       "    <tr>\n",
       "      <th>1</th>\n",
       "      <td>Ashu</td>\n",
       "      <td>23</td>\n",
       "      <td>4</td>\n",
       "      <td>Ratlam</td>\n",
       "      <td>500</td>\n",
       "      <td>mercedes</td>\n",
       "      <td>yes</td>\n",
       "      <td>True</td>\n",
       "      <td>1</td>\n",
       "    </tr>\n",
       "    <tr>\n",
       "      <th>2</th>\n",
       "      <td>Krishna</td>\n",
       "      <td>24</td>\n",
       "      <td>5</td>\n",
       "      <td>Ujjain</td>\n",
       "      <td>1000</td>\n",
       "      <td>lamborghini</td>\n",
       "      <td>no</td>\n",
       "      <td>False</td>\n",
       "      <td>1</td>\n",
       "    </tr>\n",
       "    <tr>\n",
       "      <th>3</th>\n",
       "      <td>Shashank</td>\n",
       "      <td>25</td>\n",
       "      <td>6</td>\n",
       "      <td>Mandsaur</td>\n",
       "      <td>100</td>\n",
       "      <td>Cycle</td>\n",
       "      <td>no</td>\n",
       "      <td>True</td>\n",
       "      <td>1</td>\n",
       "    </tr>\n",
       "    <tr>\n",
       "      <th>4</th>\n",
       "      <td>Manooj</td>\n",
       "      <td>26</td>\n",
       "      <td>7</td>\n",
       "      <td>Bhaugarah</td>\n",
       "      <td>200</td>\n",
       "      <td>Scooty</td>\n",
       "      <td>no</td>\n",
       "      <td>False</td>\n",
       "      <td>1</td>\n",
       "    </tr>\n",
       "    <tr>\n",
       "      <th>5</th>\n",
       "      <td>Karishma</td>\n",
       "      <td>27</td>\n",
       "      <td>8</td>\n",
       "      <td>Morkheda</td>\n",
       "      <td>150</td>\n",
       "      <td>Bus</td>\n",
       "      <td>no</td>\n",
       "      <td>True</td>\n",
       "      <td>1</td>\n",
       "    </tr>\n",
       "    <tr>\n",
       "      <th>6</th>\n",
       "      <td>Kripalu</td>\n",
       "      <td>28</td>\n",
       "      <td>9</td>\n",
       "      <td>Jaipur</td>\n",
       "      <td>20</td>\n",
       "      <td>CTX100</td>\n",
       "      <td>yes</td>\n",
       "      <td>False</td>\n",
       "      <td>10</td>\n",
       "    </tr>\n",
       "  </tbody>\n",
       "</table>\n",
       "</div>"
      ],
      "text/plain": [
       "       Name  Age  Class      Place  Poket Money      vehical Date   bool  Data\n",
       "1      Ashu   23      4     Ratlam          500     mercedes  yes   True     1\n",
       "2   Krishna   24      5     Ujjain         1000  lamborghini   no  False     1\n",
       "3  Shashank   25      6   Mandsaur          100        Cycle   no   True     1\n",
       "4    Manooj   26      7  Bhaugarah          200       Scooty   no  False     1\n",
       "5  Karishma   27      8   Morkheda          150          Bus   no   True     1\n",
       "6   Kripalu   28      9     Jaipur           20       CTX100  yes  False    10"
      ]
     },
     "execution_count": 69,
     "metadata": {},
     "output_type": "execute_result"
    }
   ],
   "source": [
    "df[\"Data\"] = np.random.choice([1,10],size = len(df))\n",
    "df"
   ]
  },
  {
   "cell_type": "code",
   "execution_count": null,
   "id": "107f59cc-3d92-4b0c-8651-fd5e32f803e9",
   "metadata": {},
   "outputs": [],
   "source": []
  }
 ],
 "metadata": {
  "kernelspec": {
   "display_name": "Python 3 (ipykernel)",
   "language": "python",
   "name": "python3"
  },
  "language_info": {
   "codemirror_mode": {
    "name": "ipython",
    "version": 3
   },
   "file_extension": ".py",
   "mimetype": "text/x-python",
   "name": "python",
   "nbconvert_exporter": "python",
   "pygments_lexer": "ipython3",
   "version": "3.11.7"
  }
 },
 "nbformat": 4,
 "nbformat_minor": 5
}
